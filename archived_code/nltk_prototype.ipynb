{
 "cells": [
  {
   "cell_type": "code",
   "execution_count": 52,
   "id": "18fd56f6",
   "metadata": {},
   "outputs": [],
   "source": [
    "import nltk, pymongo, re\n",
    "# REFERENCES\n",
    "# https://www.nltk.org/book/ch07.html"
   ]
  },
  {
   "cell_type": "code",
   "execution_count": 53,
   "id": "60ed28b6",
   "metadata": {},
   "outputs": [],
   "source": [
    "client = pymongo.MongoClient()"
   ]
  },
  {
   "cell_type": "code",
   "execution_count": 54,
   "id": "8086e053",
   "metadata": {},
   "outputs": [],
   "source": [
    "# Read in pymongo entries\n",
    "# Produce a cleaned noun phrase matrix\n",
    "# Noun sources: \n",
    "# 1. annotated nouns in double brackets that are already present in the page data\n",
    "# 1. NLP-extracted noun phrases "
   ]
  },
  {
   "cell_type": "code",
   "execution_count": 55,
   "id": "2210af73",
   "metadata": {},
   "outputs": [],
   "source": [
    "def grab_first_n_entries(n=1):\n",
    "    return client['prod']['languages'].find()"
   ]
  },
  {
   "cell_type": "code",
   "execution_count": 56,
   "id": "c90340f1",
   "metadata": {},
   "outputs": [],
   "source": [
    "# Pull all the bracketed nouns out of the wikipedia entry using a regex\n",
    "bracketed_nouns = \"\"\"\\\\[\\\\[.*?\\\\]\\\\]\"\"\"\n",
    "noun_matcher = re.compile(bracketed_nouns)\n",
    "\n",
    "\n",
    "cursor = grab_first_n_entries()"
   ]
  },
  {
   "cell_type": "code",
   "execution_count": 59,
   "id": "c9444957",
   "metadata": {},
   "outputs": [],
   "source": [
    "sentence = next(cursor)['value']"
   ]
  },
  {
   "cell_type": "code",
   "execution_count": 64,
   "id": "bec27426",
   "metadata": {},
   "outputs": [
    {
     "data": {
      "text/plain": [
       "['[[Brian Fox (computer programmer)|Brian Fox]]',\n",
       " '[[Computerworld]]',\n",
       " '[[Case Western Reserve University]]',\n",
       " '[[C (programming language)|C]]',\n",
       " '[[Unix-like]]',\n",
       " '[[macOS]]',\n",
       " '[[GNU General Public License#Version 2|GPL-2.0-or-later]]',\n",
       " '[[Windows]]',\n",
       " '[[GNU General Public License#Version 3|GPL-3.0-or-later]]',\n",
       " '[[Softpedia]]',\n",
       " '[[GNU]]',\n",
       " '[[gettext]]',\n",
       " '[[Unix shell]]',\n",
       " '[[command language]]',\n",
       " '[[GNU General Public License#Version 3|GPL-3.0-or-later]]',\n",
       " '[[GNU General Public License#Version 2|GPL-2.0-or-later]]',\n",
       " '[[GNU General Public License#Version 1|GPL-1.0-or-later]]',\n",
       " '[[Unix shell]]',\n",
       " '[[command language]]',\n",
       " '[[Brian Fox (computer programmer)|Brian Fox]]',\n",
       " '[[GNU Project]]',\n",
       " '[[free software]]',\n",
       " '[[Bourne shell]]',\n",
       " '[[Richard Stallman]]',\n",
       " '[[login]]',\n",
       " '[[Linux]]',\n",
       " '[[Linus Torvalds]]',\n",
       " '[[GNU Compiler Collection|GCC]]',\n",
       " '[[Windows 10]]',\n",
       " '[[Windows 11]]',\n",
       " '[[Windows Subsystem for Linux]]',\n",
       " '[[Solaris (operating system)|Solaris]]',\n",
       " '[[MacOS|Apple macOS]]',\n",
       " '[[tcsh]]',\n",
       " '[[macOS Catalina]]',\n",
       " '[[zsh]]',\n",
       " '[[Command-line interpreter|command processor]]',\n",
       " '[[terminal emulator|text window]]',\n",
       " '[[shell script]]',\n",
       " '[[glob (programming)|globbing]]',\n",
       " '[[Pipeline (Unix)|piping]]',\n",
       " '[[here document]]',\n",
       " '[[command substitution]]',\n",
       " '[[Variable (programming)|variables]]',\n",
       " '[[control flow|control structures]]',\n",
       " '[[Conditional (programming)|condition-testing]]',\n",
       " '[[iteration]]',\n",
       " '[[Keyword (computer programming)|keywords]]',\n",
       " '[[Syntax (programming languages)|syntax]]',\n",
       " '[[Scope (computer science)#Dynamic scoping|dynamically scoped]]',\n",
       " '[[Language (computer science)|language]]',\n",
       " '[[Bourne shell|sh]]',\n",
       " '[[C shell#History|history]]',\n",
       " '[[C shell|csh]]',\n",
       " '[[KornShell|ksh]]',\n",
       " '[[POSIX]]',\n",
       " '[[pun]]',\n",
       " '[[Bourne shell]]',\n",
       " '[[born again]]',\n",
       " '[[Richard Stallman]]',\n",
       " '[[Free Software Foundation]]',\n",
       " '[[Security bug|security hole]]',\n",
       " '[[Shellshock (software bug)|Shellshock]]',\n",
       " '[[Attack (computing)|attacks]]',\n",
       " '[[Internet]]',\n",
       " '[[The Register]]',\n",
       " '[[The New York Times]]',\n",
       " '[[ZDNet]]',\n",
       " '[[Brian Fox (computer programmer)|Brian Fox]]',\n",
       " '[[Computer programming|coding]]',\n",
       " '[[Free Software Foundation]]',\n",
       " '[[Richard Stallman]]',\n",
       " '[[Free Software Foundation]]',\n",
       " '[[Richard Stallman]]',\n",
       " '[[Free Software Foundation]]',\n",
       " '[[Linux Journal]]',\n",
       " '[[Almquist shell]]',\n",
       " '[[MacOS Catalina|Catalina]]',\n",
       " '[[Microsoft Windows]]',\n",
       " '[[Cygwin]]',\n",
       " '[[MinGW]]',\n",
       " '[[DOS]]',\n",
       " '[[DJGPP]]',\n",
       " '[[Novell NetWare]]',\n",
       " '[[OpenVMS]]',\n",
       " '[[ArcaOS]]',\n",
       " '[[Android (operating system)|Android]]',\n",
       " '[[security bug]]',\n",
       " '[[Shellshock (software bug)|Shellshock]]',\n",
       " '[[Common Gateway Interface|CGI]]',\n",
       " '[[arbitrary code execution]]',\n",
       " '[[environment variable]]',\n",
       " '[[Red Hat]]',\n",
       " '[[command (computing)|command]]',\n",
       " '[[superset]]',\n",
       " '[[brace expansion]]',\n",
       " '[[command line completion]]',\n",
       " '[[Signal (IPC)|signal handling]]',\n",
       " '[[KornShell]]',\n",
       " '[[C shell]]',\n",
       " '[[command history]]',\n",
       " '[[command substitution]]',\n",
       " '[[tab key]]',\n",
       " '[[command line completion]]',\n",
       " '[[redirection (computing)|I/O redirection]]',\n",
       " '[[standard out]]',\n",
       " '[[Standard error stream|standard error]]',\n",
       " '[[process substitution]]',\n",
       " '[[named pipe]]',\n",
       " '[[here document]]',\n",
       " '[[Stdin|standard input]]',\n",
       " '[[regular expression]]',\n",
       " '[[Perl]]',\n",
       " '[[associative arrays]]',\n",
       " '[[AWK]]',\n",
       " '[[Tcl]]',\n",
       " '[[GNU General Public License#Version 3|GPL-3.0-or-later]]',\n",
       " '[[C shell]]',\n",
       " '[[Bourne shell]]',\n",
       " '[[Hidden file and hidden directory#Unix and Unix-like environments|dot files]]',\n",
       " '[[interpreter directive]]',\n",
       " '[[short-circuit evaluation]]',\n",
       " '[[Unix]]',\n",
       " '[[Linux]]',\n",
       " '[[X window system]]',\n",
       " '[[window manager]]',\n",
       " '[[xterm]]',\n",
       " '[[Gnome Terminal]]',\n",
       " '[[Posix#POSIX.2|POSIX 1003.2 standard]]',\n",
       " '[[portability (computer science)|portability]]',\n",
       " '[[ ... ]]',\n",
       " '[[Coprocess]]',\n",
       " '[[Almquist shell#Dash|dash]]',\n",
       " '[[autoconf]]',\n",
       " '[[Emacs]]',\n",
       " '[[Vi-binding]]',\n",
       " '[[batch (Unix)|batch]]',\n",
       " '[[Background process|background execution]]',\n",
       " '[[Process state]]',\n",
       " '[[Kill_(command)|kill]]',\n",
       " '[[Signal (IPC)|signal]]',\n",
       " '[[Exit status|exit code]]',\n",
       " '[[Command-line completion|completion]]',\n",
       " '[[readline]]',\n",
       " '[[Comparison of command shells]]',\n",
       " '[[Computerworld]]',\n",
       " '[[Category:1989 software]]',\n",
       " '[[Category:Cross-platform free software]]',\n",
       " '[[Category:Domain-specific programming languages]]',\n",
       " '[[Category:Free software programmed in C]]',\n",
       " '[[Category:GNU Project software]]',\n",
       " '[[Category:Scripting languages]]',\n",
       " '[[Category:Text-oriented programming languages]]',\n",
       " '[[Category:Unix shells]]']"
      ]
     },
     "execution_count": 64,
     "metadata": {},
     "output_type": "execute_result"
    }
   ],
   "source": [
    "sentence\n",
    "noun_phrases = re.compile(bracketed_nouns)\n",
    "\n",
    "noun_phrases.findall(sentence)"
   ]
  },
  {
   "cell_type": "code",
   "execution_count": 68,
   "id": "24ab7356",
   "metadata": {},
   "outputs": [
    {
     "data": {
      "text/plain": [
       "('[\"{{Short description|GNU replacement for the Bourne shell}}\\\\n{{Use mdy dates|date=March 2014}}\\\\n{{Infobox software\\\\n| name = Bash\\\\n| logo = Gnu-bash-logo.svg\\\\n| screenshot = Bash screenshot.png\\\\n| caption = Screenshot of a Bash session\\\\n| author = \\\\n| developer = Chet Ramey<ref name=\\\\\"computerworld-Hamilton-Ramey\\\\\">{{cite news |last1=Hamilton |first1=Naomi |title=The A-Z of Programming Languages: BASH/Bourne-Again Shell |website= |url=http://www.computerworld.com.au/article/222764/ |archive-url=https://web.archive.org/web/20161108230747/http://www.computerworld.com.au/article/222764/ |archive-date=8 November 2016 |access-date=1 March 2022 |date=2008-05-30 <!-- https://web.archive.org/web/20081205093826/http://www.computerworld.com.au/index.php/id;1591223321;pp;2;fp;16;fpid;1 \\\\n -->}}</ref><ref name=\\\\\"tiswww.case.edu-Ramey-BASH\\\\\">{{cite web |last1=Ramey |first1=Chet |title=The GNU Bourne-Again Shell |url=https://tiswww.case.edu/php/chet/bash/bashtop.html |website=Technology Infrastructure Services |publisher= |access-date=1 March 2022 |date=2021-04-20}}</ref>\\\\n| released = {{start date and age|1989|06|08}}\\\\n| latest release version = {{wikidata|property|preferred|references|edit|Q189248|P348|P548=Q2804309}}\\\\n| latest release date = {{wikidata|qualifier|preferred|single|Q189248|P348|P548=Q2804309|P577}}\\\\n| latest preview version = {{wikidata|property|preferred|references|edit|Q189248|P348|P548=Q51930650}}\\\\n| latest preview date = {{wikidata|qualifier|preferred|single|Q189248|P348|P548=Q51930650|P577}}\\\\n| programming language = \\\\n| operating system = {{Plainlist|\\\\n* <ref>{{cite web|url=ftp://ftp.cwru.edu/pub/bash/FAQ|archive-url=https://web.archive.org/web/20180901171316/ftp://ftp.cwru.edu/pub/bash/FAQ|archive-date=September 1, 2018|url-status=dead|title=Bash FAQ, version 4.14|access-date=April 9, 2016|df=mdy-all}}</ref>\\\\n*  (; GPL-3.0-or-later available through third parties)\\\\n*  ()<ref>{{cite web|url=https://github.com/Microsoft/BashOnWindows/issues/107|title=Missing source code - GPL compliance? \\\\u00b7 Issue #107 \\\\u00b7 Microsoft/WSL|website=GitHub|access-date=July 8, 2016|archive-date=September 24, 2019|archive-url=https://web.archive.org/web/20190924163108/https://github.com/microsoft/WSL/issues/107|url-status=live}}</ref><ref>{{cite web|title=GNU Bash|url=http://www.softpedia.com/get/System/System-Miscellaneous/GNU-Bash.shtml|website=|date=January 23, 2010|publisher=SoftNews|access-date=9 April 2016|archive-date=October 21, 2017|archive-url=https://web.archive.org/web/20171021004857/http://www.softpedia.com/get/System/System-Miscellaneous/GNU-Bash.shtml|url-status=live}}</ref>\\\\n}}\\\\n| platform = \\\\n| language = Multilingual ()\\\\n| genre = , \\\\n| license = Since 4.0: <ref name=\\\\\"license\\\\\">{{cite web | author = GNU Project | author-link = GNU Project | title = README file | url = https://www.gnu.org/software/bash/ | quote = Bash is free software, distributed under the terms of the [GNU] General Public License as published by the Free Software Foundation, version 3 of the License (or any later version). | access-date = April 16, 2014 | archive-date = April 26, 2019 | archive-url = https://web.archive.org/web/20190426210620/http://www.gnu.org/software/bash/ | url-status = live }}</ref><br />1.11? to 3.2: <ref>{{cite web|url=http://www.oldlinux.org/Linux.old/bin/old/bash-1.11/ |title=bash-1.11|website=oldlinux.org|quote=See test.c for GPL-2.0-or-later}}</ref><br />0.99? to 1.05?: <ref>{{cite web|url=http://www.oldlinux.org/Linux.old/bin/old/bash-1.05.tar |title=bash-1.05.tar|website=oldlinux.org}}</ref><ref name=\\\\\"bashfaq061\\\\\">{{Cite web|title=BashFAQ/061 - Greg\\'s Wiki|url=https://mywiki.wooledge.org/BashFAQ/061|access-date=2021-03-01|website=mywiki.wooledge.org|archive-date=March 2, 2021|archive-url=https://web.archive.org/web/20210302212811/https://mywiki.wooledge.org/BashFAQ/061|url-status=live}}</ref><ref>{{cite web|url=https://unix.stackexchange.com/questions/243375/is-there-a-way-to-download-the-presumably-initial-bash-source-bash-0-99 |title=Is there a way to download the presumably initial bash source bash-0.99?|website=unix.stackexchange.com}}</ref>\\\\n| website = {{URL|https://www.gnu.org/software/bash/|gnu.org/software/bash}}\\\\n}}\\\\n\\\\n\\'\\'\\'Bash\\'\\'\\' is a  and  written by  for the  as a  replacement for the .<ref name=\\\\\"GNUBSD\\\\\">{{Cite newsgroup\\\\n  | title = GNU + BSD = ?\\\\n  | author =  (forwarded with comments by Chet Ramey)\\\\n  | date = February 10, 1988\\\\n  | newsgroup = comp.unix.questions\\\\n  | message-id = 2362@mandrill.CWRU.Edu\\\\n  | url = https://groups.google.com/g/comp.unix.questions/c/iNjWwkyroR8/m/yedr9yDWSuQJ\\\\n  | access-date = December 28, 2021\\\\n  | quote = For a year and a half, the GNU shell was \\\\\"just about done\\\\\". The author made repeated promises to deliver what he had done, and never kept them. Finally I could no longer believe he would ever deliver anything. So Foundation staff member Brian Fox is now implementing an imitation of the Bourne shell.\\\\n  | archive-date = December 28, 2021\\\\n  | archive-url = https://web.archive.org/web/20211228023030/https://groups.google.com/g/comp.unix.questions/c/iNjWwkyroR8/m/yedr9yDWSuQJ\\\\n  | url-status = live\\\\n  }}</ref><ref>{{Citation\\\\n  | last = Hamilton\\\\n  | first = Naomi\\\\n  | title = The A-Z of Programming Languages: BASH/Bourne-Again Shell\\\\n  | journal = Computerworld\\\\n  | page = 2\\\\n  | date = May 30, 2008\\\\n  | access-date = March 21, 2011\\\\n  | url = http://www.computerworld.com.au/article/222764/a-z_programming_languages_bash_bourne-again_shell/?pp=2&fp=16&fpid=1\\\\n  | quote = When Richard Stallman decided to create a full replacement for the then-encumbered Unix systems, he knew that he would eventually have to have replacements for all of the common utilities, especially the standard shell, and those replacements would have to have acceptable licensing.\\\\n  | archive-date = July 6, 2011\\\\n  | archive-url = https://web.archive.org/web/20110706103704/http://www.computerworld.com.au/article/222764/a-z_programming_languages_bash_bourne-again_shell/?pp=2&fp=16&fpid=1\\\\n  | url-status = dead\\\\n  }}</ref> First released in 1989,<ref name=BashBeta>{{Cite newsgroup\\\\n  | title = Bash is in beta release!\\\\n  | author = Brian Fox (forwarded by Leonard H. Tower Jr.)\\\\n  | date = June 8, 1989\\\\n  | newsgroup = gnu.announce\\\\n  | url = https://groups.google.com/group/gnu.announce/msg/a509f48ffb298c35?hl=en\\\\n  | access-date = October 28, 2010\\\\n  | archive-date = May 4, 2013\\\\n  | archive-url = https://web.archive.org/web/20130504075535/http://groups.google.com/group/gnu.announce/msg/a509f48ffb298c35?hl=en\\\\n  | url-status = live\\\\n  }}</ref> it has been used as the default  shell for most  distributions.<ref name=\\\\\"zsh2\\\\\" /> Bash was one of the first programs  ported to Linux, alongside .<ref name=\\\\\"groups.google.com\\\\\">{{cite web|url = https://groups.google.com/group/comp.os.minix/msg/b813d52cbc5a044b|title = comp.os.minix|access-date = 2009-09-06|last = Torvalds|first = Linus Benedict|date=August 1991 | quote=I\\'ve currently ported bash(1.08) and gcc(1.40), and things seem to work.}}</ref> A version is also available for  and  via the .<ref>{{cite web|url=http://www.windowscentral.com/how-install-bash-shell-command-line-windows-10|title=How to install Bash shell command-line tool on Windows 10|date=September 28, 2016|access-date=November 20, 2016|archive-date=November 20, 2016|archive-url=https://web.archive.org/web/20161120213017/http://www.windowscentral.com/how-install-bash-shell-command-line-windows-10|url-status=live}}</ref><ref>{{Cite web |last=Hoffman |first=Chris |title=How to Install the Windows Subsystem for Linux on Windows 11 |url=https://www.howtogeek.com/744328/how-to-install-the-windows-subsystem-for-linux-on-windows-11/ |access-date=2022-10-12 |website=How-To Geek |language=en-US}}</ref> It is also the default user shell in  11.<ref>{{cite web|url=https://docs.oracle.com/cd/E23824_01/html/E24456/userenv-1.html|title=User Environment Feature Changes|publisher=Oracle|access-date=June 8, 2018|archive-date=June 12, 2018|archive-url=https://web.archive.org/web/20180612144748/https://docs.oracle.com/cd/E23824_01/html/E24456/userenv-1.html|url-status=live}}</ref> Bash was also the default shell in versions of  from 10.3 (originally, the default shell was )  to the 2019 release of , which changed the default shell to , although Bash remains available as an alternative shell.<ref name=\\\\\":0\\\\\">{{Cite web|last=Hughes|first=Matthew|date=2019-06-04|title=Why does macOS Catalina use Zsh instead of Bash? Licensing|url=https://thenextweb.com/dd/2019/06/04/why-does-macos-catalina-use-zsh-instead-of-bash-licensing/|access-date=2021-01-12|website=The Next Web|language=en-us|archive-date=December 31, 2020|archive-url=https://web.archive.org/web/20201231231721/https://thenextweb.com/dd/2019/06/04/why-does-macos-catalina-use-zsh-instead-of-bash-licensing/|url-status=live}}</ref>\\\\n\\\\nBash is a  that typically runs in a  where the user types commands that cause actions. Bash can also read and execute commands from a file, called a . Like most Unix shells, it supports filename  (wildcard matching), , s, , , and  for  and . The , ,  variables and other basic features of the  are all copied from . Other features, e.g., , are copied from  and . Bash is a -compliant shell, but with a number of extensions.\\\\n\\\\nThe shell\\'s name is an acronym for \\'\\'Bourne Again Shell\\'\\', a  on the name of the  that it replaces<ref>{{Cite web|title=I Almost Get a Linux Editor and Compiler|url=http://www.drdobbs.com/i-almost-get-a-linux-editor-and-compiler/184404693|access-date=2020-09-12|website=Dr. Dobb\\'s|archive-date=March 2, 2021|archive-url=https://web.archive.org/web/20210302212410/https://www.drdobbs.com/i-almost-get-a-linux-editor-and-compiler/184404693|url-status=live}}</ref> and the notion of being \\\\\"\\\\\".<ref>\\\\n{{cite web\\\\n  | author = \\\\n  | title = About the GNU Project\\\\n  | publisher = \\\\n  | date = November 12, 2010\\\\n  | url = https://www.gnu.org/gnu/thegnuproject.html\\\\n  | quote = \\\\\"Bourne Again Shell\\\\\" is a play on the name \\'\\'Bourne Shell\\'\\', which was the usual shell on Unix.\\\\n  | access-date = March 13, 2011\\\\n| archive-url= https://web.archive.org/web/20110424064815/https://www.gnu.org/gnu/thegnuproject.html| archive-date=April 24, 2011 | url-status= live}}\\\\n</ref><ref>\\\\n{{Citation\\\\n |last        = Gattol\\\\n |first       = Markus\\\\n |title       = Bourne-again Shell\\\\n |date        = March 13, 2011\\\\n |url         = http://www.markus-gattol.name/ws/bash.html\\\\n |quote       = The name is a pun on the name of the Bourne shell (sh), an early and important Unix shell written by Stephen Bourne and distributed with Version 7 Unix circa 1978, and the concept of being \\\\\"born again\\\\\".\\\\n |access-date  = March 13, 2011\\\\n |url-status     = dead\\\\n |archive-url  = https://web.archive.org/web/20110309092607/http://www.markus-gattol.name/ws/bash.html\\\\n |archive-date = March 9, 2011\\\\n |df          = mdy-all\\\\n}}\\\\n</ref>\\\\n\\\\nA  in Bash dating from version 1.03 (August 1989),<ref name=\\\\\"Seclists-20141004\\\\\">{{cite web |last=Chazelas |first=Stephane |title=oss-sec mailing list archives |url=http://seclists.org/oss-sec/2014/q4/102 |date=4 October 2014 |work=Seclists.org |access-date=4 October 2014 |archive-date=October 6, 2014 |archive-url=https://web.archive.org/web/20141006093452/http://seclists.org/oss-sec/2014/q4/102 |url-status=live }}</ref> dubbed , was discovered in early September 2014 and quickly led to a range of  across the .<ref name=\\\\\"TR-20140924\\\\\">{{cite web |last=Leyden |first=John |title=Patch Bash NOW: \\'Shell Shock\\' bug blasts OS X, Linux systems wide open |url=https://www.theregister.co.uk/2014/09/24/bash_shell_vuln/ |work= |date=September 24, 2014 |access-date=September 25, 2014 |archive-date=October 16, 2014 |archive-url=https://web.archive.org/web/20141016214010/http://www.theregister.co.uk/2014/09/24/bash_shell_vuln |url-status=live }}</ref><ref name=\\\\\"NYT-20140925-NP\\\\\">{{cite news |last=Perlroth |first=Nicole |title=Security Experts Expect \\'Shellshock\\' Software Bug in Bash to Be Significant |url=https://www.nytimes.com/2014/09/26/technology/security-experts-expect-shellshock-software-bug-to-be-significant.html |date=September 25, 2014 |work= |access-date=September 25, 2014 |archive-date=April 5, 2019 |archive-url=https://web.archive.org/web/20190405000511/https://www.nytimes.com/2014/09/26/technology/security-experts-expect-shellshock-software-bug-to-be-significant.html |url-status=live }}</ref><ref name=\\\\\"ZDN-20140929\\\\\">{{cite web |last=Seltzer |first=Larry |title=Shellshock makes Heartbleed look insignificant |archive-url=https://web.archive.org/web/20160514191755/http://www.zdnet.com/article/hackers-jump-on-the-shellshock-bash-bandwagon/ |archive-date=May 14, 2016 |url=http://www.zdnet.com/shellshock-makes-heartbleed-look-insignificant-7000034143/ |date=29 September 2014 |work=}}</ref> Patches to fix the bugs were made available soon after the bugs were identified.\\\\n\\\\n==History== \\\\n began  Bash on January 10, 1988,<ref>{{Citation\\\\n  | author = Brian Fox\\\\n  | title = shell.c\\\\n  | publisher = \\\\n  | date = August 29, 1996\\\\n  | url = http://ftp.gnu.org/gnu/bash/bash-1.14.7.tar.gz\\\\n  | quote = Birthdate: Sunday, January 10th, 1988. Initial author: Brian Fox\\\\n  | access-date = November 1, 2010\\\\n  | archive-date = September 28, 2018\\\\n  | archive-url = https://web.archive.org/web/20180928193215/http://ftp.gnu.org/gnu/bash/bash-1.14.7.tar.gz\\\\n  | url-status = live\\\\n  }}</ref> after  became dissatisfied with the lack of progress being made by a prior developer.<ref name=GNUBSD/> Stallman and the  (FSF) considered a free shell that could run existing shell scripts so strategic to a completely free system built from BSD and GNU code that this was one of the few projects they funded themselves, with Fox undertaking the work as an employee of FSF.<ref name=GNUBSD/><ref>\\\\n{{cite web\\\\n  | author = \\\\n  | title = About the GNU Project\\\\n  | publisher = \\\\n  | date = October 3, 2010\\\\n  | url = https://www.gnu.org/gnu/thegnuproject.html\\\\n  | access-date = March 21, 2011\\\\n  | quote = Free Software Foundation employees have written and maintained a number of GNU software packages. Two notable ones are the C library and the shell. \\\\u2026 We funded development of these programs because the GNU Project was not just about tools or a development environment. Our goal was a complete operating system, and these programs were needed for that goal.\\\\n| archive-url= https://web.archive.org/web/20110424064815/https://www.gnu.org/gnu/thegnuproject.html| archive-date=April 24, 2011 | url-status= live}}\\\\n</ref> Fox released Bash as a beta, version .99, on June 8, 1989,<ref name=BashBeta/> and remained the primary maintainer until sometime between mid-1992<ref>{{Cite newsgroup\\\\n  | title = January 1993 GNU\\'s Bulletin\\\\n  | author = len (g...@prep.ai.mit.edu)\\\\n  | date = April 20, 1993\\\\n  | newsgroup = gnu.announce\\\\n  | message-id = gnusenet930421bulletin@prep.ai.mit.edu\\\\n  | url = https://groups.google.com/group/gnu.misc.discuss/msg/4f42c739cd7e8bd8\\\\n  | access-date = October 28, 2010\\\\n  | archive-date = March 2, 2021\\\\n  | archive-url = https://web.archive.org/web/20210302213455/https://groups.google.com/forum/\\\\n  | url-status = live\\\\n  }}</ref> and mid-1994,<ref name=\\\\\"Bourne shell grammar\\\\\">{{cite web|first=Chet|last=Ramey|title=Bash - the GNU shell (Reflections and Lessons Learned)|url=http://www.linuxjournal.com/article/2800#N0xa50890.0xb46380|access-date=November 13, 2008| date=August 1, 1994|work=| archive-url= https://web.archive.org/web/20081205082152/http://www.linuxjournal.com/article/2800| archive-date=December 5, 2008 | url-status= live}}</ref> when he was laid off from FSF<ref>{{Citation\\\\n  | title = Dates in your Computerworld interview\\\\n  | author = Chet Ramey\\\\n  | date = October 31, 2010\\\\n  | url = https://www.scribd.com/doc/40556434/2010-10-31-Chet-Ramey-Early-Bash-Dates\\\\n  | access-date = October 31, 2010\\\\n  | archive-date = July 20, 2012\\\\n  | archive-url = https://web.archive.org/web/20120720124341/http://www.scribd.com/doc/40556434/2010-10-31-Chet-Ramey-Early-Bash-Dates\\\\n  | url-status = live\\\\n  }}</ref> and his responsibility was transitioned to another early contributor, Chet Ramey.<ref>{{Cite newsgroup\\\\n  | title = Bash 0.99 fixes & improvements\\\\n  | author = Chet Ramey\\\\n  | date = June 12, 1989\\\\n  | newsgroup = gnu.bash.bug\\\\n  | url = https://groups.google.com/group/gnu.bash.bug/msg/1fc7b688f5d44438?hl=en\\\\n  | access-date = November 1, 2010\\\\n  | archive-date = November 10, 2012\\\\n  | archive-url = https://web.archive.org/web/20121110194014/http://groups.google.com/group/gnu.bash.bug/msg/1fc7b688f5d44438?hl=en\\\\n  | url-status = live\\\\n  }}</ref><ref>{{Cite newsgroup\\\\n  | title = Some bash-1.02 fixes\\\\n  | author = Chet Ramey\\\\n  | date = July 24, 1989\\\\n  | newsgroup = gnu.bash.bug\\\\n  | url = https://groups.google.com/group/gnu.bash.bug/msg/072a03645663caea?hl=en\\\\n  | access-date = October 30, 2010\\\\n  | archive-date = November 10, 2012\\\\n  | archive-url = https://web.archive.org/web/20121110194034/http://groups.google.com/group/gnu.bash.bug/msg/072a03645663caea?hl=en\\\\n  | url-status = live\\\\n  }}</ref><ref>{{Cite newsgroup\\\\n| title = Availability of bash 1.05\\\\n| author = Brian Fox\\\\n| date = March 2, 1990\\\\n| newsgroup = gnu.bash.bug\\\\n| url = https://groups.google.com/group/gnu.bash.bug/msg/e6112ccc8866e2f4?hl=en\\\\n| access-date = October 30, 2010\\\\n| archive-date = November 10, 2012\\\\n| archive-url = https://web.archive.org/web/20121110194052/http://groups.google.com/group/gnu.bash.bug/msg/e6112ccc8866e2f4?hl=en\\\\n| url-status = live\\\\n}}</ref>\\\\n\\\\nSince then, Bash has become by far the most popular shell among users of Linux, becoming the default interactive shell on that operating system\\'s various distributions<ref>{{cite book\\\\n| title = CompTIA Linux+ Powered by Linux Professional Institute Study Guide: Exam LX0-103 and Exam LX0-104\\\\n| edition = 3rd\\\\n| publisher = John Wiley & Sons, Inc.\\\\n| date = April 2015\\\\n| isbn = 978-1-119-02122-3\\\\n| last1 = Bresnahan\\\\n| first1 = Christine\\\\n| last2 = Blum\\\\n| first2 = Richard\\\\n| url = https://books.google.com/books?id=2P3zBgAAQBAJ&q=%22most+popular%22+linux+shell&pg=PA5\\\\n| quote = In Linux, most users run bash because it is the most popular shell.\\\\n| page = 5\\\\n| access-date = June 6, 2016\\\\n| archive-date = March 2, 2021\\\\n| archive-url = https://web.archive.org/web/20210302212409/https://books.google.com/books?id=2P3zBgAAQBAJ&q=%22most+popular%22+linux+shell&pg=PA5\\\\n| url-status = live\\\\n}}</ref><ref>{{cite book\\\\n| title = Mastering Linux\\\\n| publisher = John Wiley & Sons, Inc.\\\\n| date = February 2006\\\\n| isbn = 978-0-7821-5277-7\\\\n| last1 = Danesh\\\\n| first1 = Arman\\\\n| last2 = Jang\\\\n| first2 = Michael\\\\n| url = https://books.google.com/books?id=tIjrVYbZmUAC&q=bash+most+popular+unix+shell&pg=PA363\\\\n| quote = The Bourne Again Shell (bash) is the most common shell installed with Linux distributions.\\\\n| page = 363\\\\n| access-date = June 6, 2016\\\\n| archive-date = March 2, 2021\\\\n| archive-url = https://web.archive.org/web/20210302212410/https://books.google.com/books?id=tIjrVYbZmUAC&q=bash+most+popular+unix+shell&pg=PA363\\\\n| url-status = live\\\\n}}</ref> (although  may be the default scripting shell) and on Apple\\'s macOS releases before  in October 2019.<ref>{{Cite book\\\\n| title = Beginning Shell Scripting\\\\n| publisher = John Wiley & Sons, Inc.\\\\n| date = April 2005\\\\n| isbn = 978-0-7645-9791-6\\\\n| last1 = Foster-Johnson\\\\n| first1 = Eric\\\\n| last2 = Welch\\\\n| first2 = John C.\\\\n| last3 = Anderson\\\\n| first3 = Micah\\\\n| url = https://books.google.com/books?id=dwIRERUpQPEC&q=bash+most+popular+unix+shell&pg=PA6\\\\n| quote = Bash is by far the most popular shell and forms the default shell on Linux and Mac OSX systems.\\\\n| page = 6\\\\n| access-date = June 6, 2016\\\\n| archive-date = March 2, 2021\\\\n| archive-url = https://web.archive.org/web/20210302212410/https://books.google.com/books?id=dwIRERUpQPEC&q=bash+most+popular+unix+shell&pg=PA6\\\\n| url-status = live\\\\n}}</ref><ref name=\\\\\"zsh1\\\\\">{{cite web|url=https://support.apple.com/en-us/HT208050|title=Use zsh as the default shell on your Mac - Apple Support|access-date=1 July 2019|archive-date=December 2, 2019|archive-url=https://web.archive.org/web/20191202143802/https://support.apple.com/en-us/HT208050|url-status=live}}</ref><ref name=\\\\\"zsh2\\\\\">{{Cite web|url=https://www.theverge.com/2019/6/4/18651872/apple-macos-catalina-zsh-bash-shell-replacement-features|title=Apple replaces bash with zsh as the default shell in macOS Catalina|last=Warren|first=Tom|date=June 4, 2019|website=The Verge|access-date=June 13, 2019|archive-date=June 10, 2019|archive-url=https://web.archive.org/web/20190610051842/https://www.theverge.com/2019/6/4/18651872/apple-macos-catalina-zsh-bash-shell-replacement-features|url-status=live}}</ref> Bash has also been ported to  and distributed with  and , to  by the  project, to , to  by the GNV project,<ref>{{cite web|url=https://sourceforge.net/p/gnv/wiki/InstallingGNVPackages/|access-date=2020-09-04|title=Installing the new GNV packages|archive-date=October 3, 2020|archive-url=https://web.archive.org/web/20201003182204/https://sourceforge.net/p/gnv/wiki/InstallingGNVPackages/|url-status=live}}</ref> to ,<ref>{{cite web|url=https://www.arcanoae.com/wiki/arcaos/compatibility-subsystems/|title=Compatibility Subsystems|access-date=2020-09-04|archive-date=September 23, 2020|archive-url=https://web.archive.org/web/20200923001119/https://www.arcanoae.com/wiki/arcaos/compatibility-subsystems/|url-status=live}}</ref> and to  via various terminal emulation applications.\\\\n\\\\nIn September 2014, St\\\\u00e9phane Chazelas, a Unix/Linux specialist,<ref>{{cite news |last1=Juliana |first1=Cino |title=Linux bash exit status and how to set exit status in bash - Techolac |url=https://www.techolac.com/linux/linux-bash-exit-status-and-how-to-set-exit-status-in-bash/ |access-date=21 June 2019 |date=10 June 2017 |archive-date=June 21, 2019 |archive-url=https://web.archive.org/web/20190621183753/https://www.techolac.com/linux/linux-bash-exit-status-and-how-to-set-exit-status-in-bash/ |url-status=live }}</ref> discovered a  in the program. The bug, first disclosed on September 24, was named  and assigned the numbers {{CVE|2014-6271|2014-6277|2014-7169|leadout=and}}. The bug was regarded as severe, since  scripts using Bash could be vulnerable, enabling . The bug was related to how Bash passes function definitions to subshells through s.<ref>{{Cite web\\\\n| author = Huzaifa Sidhpurwala\\\\n| title = Bash specially-crafted environment variables code injection attack\\\\n| publisher = \\\\n| url = https://securityblog.redhat.com/2014/09/24/bash-specially-crafted-environment-variables-code-injection-attack/\\\\n| date = 2014-09-24\\\\n| access-date = September 25, 2014\\\\n| archive-date = September 25, 2014\\\\n| archive-url = https://web.archive.org/web/20140925035842/https://securityblog.redhat.com/2014/09/24/bash-specially-crafted-environment-variables-code-injection-attack/\\\\n| url-status = live\\\\n}}</ref>\\\\n\\\\n==Features==\\\\nThe Bash  syntax is a  of the Bourne shell command syntax. Bash supports ,  (Programmable Completion),<ref>{{Cite web|url=https://www.gnu.org/software/bash/manual/bash.html#Programmable-Completion|title=Bash Reference Manual|website=www.gnu.org|access-date=March 27, 2018|archive-date=March 15, 2018|archive-url=https://web.archive.org/web/20180315115230/http://www.gnu.org/software/bash/manual/bash.html#Programmable-Completion|url-status=live}}</ref> basic debugging<ref>{{cite web|url=http://tldp.org/LDP/Bash-Beginners-Guide/html/sect_02_03.html|title=Debugging Bash scripts|website=tldp.org|access-date=November 20, 2018|archive-date=November 4, 2018|archive-url=https://web.archive.org/web/20181104185300/http://tldp.org/LDP/Bash-Beginners-Guide/html/sect_02_03.html|url-status=live}}</ref> and  (using <code>trap</code>) since bash 2.05a<ref>{{Cite web|url=https://wiki-dev.bash-hackers.org/scripting/bashchanges|title=Bash changes [Bash Hackers Wiki (DEV 20200708T2203)]|website=wiki-dev.bash-hackers.org|access-date=September 23, 2019|archive-date=September 23, 2019|archive-url=https://web.archive.org/web/20190923203509/https://wiki-dev.bash-hackers.org/scripting/bashchanges|url-status=live}}</ref> among other features. Bash can execute the vast majority of Bourne shell scripts without modification, with the exception of Bourne shell scripts stumbling into fringe syntax behavior interpreted differently in Bash or attempting to run a system command matching a newer Bash builtin, etc. Bash command syntax includes ideas drawn from the  (ksh) and the  (csh) such as command line editing,  (<code>history</code> command),<ref>{{Cite web|url=https://www.gnu.org/savannah-checkouts/gnu/bash/manual/bash.html#Bash-History-Builtins|title=Bash Reference Manual|website=www.gnu.org|access-date=September 15, 2019|archive-date=September 15, 2019|archive-url=https://web.archive.org/web/20190915123105/http://www.gnu.org/savannah-checkouts/gnu/bash/manual/bash.html#Bash-History-Builtins|url-status=live}}</ref> the directory stack, the <code>$RANDOM</code> and <code>$PPID</code> variables, and POSIX  syntax <code>$(\\\\u2026)</code>.\\\\n\\\\nWhen a user presses the  within an interactive command-shell, Bash automatically uses , since beta version 2.04,<ref>{{cite web|url=http://www.caliban.org/bash/index.shtml|title=Working more productively with bash 2.x/3.x|website=www.caliban.org|access-date=June 21, 2018|archive-date=June 29, 2018|archive-url=https://web.archive.org/web/20180629230903/http://www.caliban.org/bash/index.shtml|url-status=live}}</ref> to match partly typed program names, filenames and variable names. The Bash command-line completion system is very flexible and customizable, and is often packaged with functions that complete arguments and filenames for specific programs and tasks.\\\\n\\\\nBash\\'s syntax has many extensions lacking in the Bourne shell. Bash can perform integer calculations (\\\\\"arithmetic evaluation\\\\\") without spawning external processes. It uses the <code>((\\\\u2026))</code> command and the <code>$((\\\\u2026))</code> variable syntax for this purpose. Its syntax simplifies . For example, it can redirect put (stdout) and  (stderr) at the same time using the <code>&></code> operator. This is simpler to type than the Bourne shell equivalent \\'<code>command > file 2>&1</code>\\'. Bash supports  using the <code><(command)</code> and <code>>(command)</code>syntax, which substitutes the output of (or input to) a command where a filename is normally used. (This is implemented through \\'\\'/proc/fd/\\'\\' unnamed pipes on systems that support that, or via temporary s where necessary).\\\\n\\\\nWhen using the \\'function\\' keyword, Bash function declarations are not compatible with Bourne/Korn/POSIX scripts (the KornShell has the same problem when using \\'function\\'), but Bash accepts the same function declaration syntax as the Bourne and Korn shells, and is POSIX-conformant. Because of these and other differences, Bash shell scripts are rarely runnable under the Bourne or Korn shell interpreters unless deliberately written with that compatibility in mind, which is becoming less common as Linux becomes more widespread. But in POSIX mode, Bash conforms with POSIX more closely.<ref name=\\\\\"GNUBASHREF\\\\\">\\\\n{{Citation\\\\n  | title = The GNU Bash Reference Manual, for Bash, Version 4.1\\\\n  | date = December 23, 2009\\\\n  | chapter = 6.11 Bash POSIX Mode\\\\n  | chapter-url = https://www.gnu.org/software/bash/manual/html_node/Bash-POSIX-Mode.html\\\\n  | access-date = October 26, 2010\\\\n  | url = https://www.gnu.org/software/bash/manual/html_node/index.html\\\\n| archive-url= https://web.archive.org/web/20101203065400/https://www.gnu.org/software/bash/manual/html_node/index.html| archive-date= December 3, 2010 | url-status= live}}\\\\n</ref>\\\\n\\\\nBash supports s. Since version 2.05b Bash can redirect  (stdin) from a \\\\\"here string\\\\\" using the <code><<<</code> operator.\\\\n\\\\nBash 3.0 supports in-process  matching using a syntax reminiscent of .<ref>{{Cite web|url=http://www.tldp.org/LDP/abs/html/bashver3.html#BASH3REF|title=Advanced Bash-Scripting Guide|website=www.tldp.org|at=Section 37.2 (Bash, version 3)|access-date=2017-03-05|archive-date=May 5, 2017|archive-url=https://web.archive.org/web/20170505161903/http://tldp.org/LDP/abs/html/bashver3.html#BASH3REF|url-status=live}}</ref>\\\\n\\\\nIn February 2009,<ref>{{cite web|url=http://tldp.org/LDP/abs/html/bashver4.html|title=Bash, version 4|website=tldp.org|access-date=June 25, 2018|archive-date=July 1, 2018|archive-url=https://web.archive.org/web/20180701001653/http://www.tldp.org/LDP/abs/html/bashver4.html|url-status=live}}</ref> Bash 4.0 introduced support for .<ref name=\\\\\"bashfaq061\\\\\" />\\\\nAssociative array indices are strings, in a manner similar to  or .<ref>{{cite web|url=https://www.gnu.org/software/bash/manual/html_node/Arrays.html|title=Arrays (Bash Reference Manual)|website=www.gnu.org|access-date=July 4, 2018|archive-date=July 11, 2018|archive-url=https://web.archive.org/web/20180711142941/http://www.gnu.org/software/bash/manual/html_node/Arrays.html|url-status=live}}</ref> They can be used to emulate multidimensional arrays. Bash 4 also switches its license to ; some users suspect this licensing change is why MacOS continues to use older versions.<ref>{{cite web|url=https://apple.stackexchange.com/questions/193411/update-bash-to-version-4-0-on-osx|title=macos - Update bash to version 4.0 on OSX|website=Ask Different|access-date=June 25, 2018|archive-date=June 25, 2018|archive-url=https://web.archive.org/web/20180625213216/https://apple.stackexchange.com/questions/193411/update-bash-to-version-4-0-on-osx|url-status=live}}</ref> Apple finally stopped using Bash in their operating systems as default shell with the release of MacOS Catalina in 2019.<ref name=\\\\\":0\\\\\" />\\\\n\\\\n===Brace expansion===\\\\nBrace expansion, also called alternation, is a feature copied from the . It generates a set of alternative combinations. Generated results need not exist as files. The results of each expanded string are not sorted and left to right order is preserved:\\\\n\\\\n<syntaxhighlight lang=\\\\\"console\\\\\">\\\\n$ echo a{p,c,d,b}e\\\\nape ace ade abe\\\\n$ echo {a,b,c}{d,e,f}\\\\nad ae af bd be bf cd ce cf\\\\n</syntaxhighlight>\\\\nUsers should not use brace expansions in portable shell scripts, because the  does not produce the same output.\\\\n\\\\n<syntaxhighlight lang=\\\\\"console\\\\\">\\\\n$ # A traditional shell does not produce the same output\\\\n$ /bin/sh -c \\'echo a{p,c,d,b}e\\'\\\\na{p,c,d,b}e\\\\n</syntaxhighlight>\\\\n\\\\nWhen brace expansion is combined with wildcards, the braces are expanded first, and then the resulting wildcards are substituted normally. Hence, a listing of JPEG and PNG images in the current directory could be obtained using:\\\\n\\\\n<syntaxhighlight lang=\\\\\"bash\\\\\">\\\\nls *.{jpg,jpeg,png}    # expands to *.jpg *.jpeg *.png - after which,\\\\n                       # the wildcards are processed\\\\necho *.{png,jp{e,}g}   # echo just show the expansions -\\\\n                       # and braces in braces are possible.\\\\n</syntaxhighlight>\\\\n\\\\nIn addition to alternation, brace expansion can be used for sequential ranges between two integers or characters separated by double dots. Newer versions of Bash allow a third integer to specify the increment.  \\\\n\\\\n<syntaxhighlight lang=\\\\\"console\\\\\">\\\\n$ echo {1..10}\\\\n1 2 3 4 5 6 7 8 9 10\\\\n$ echo {01..10}\\\\n01 02 03 04 05 06 07 08 09 10\\\\n$ echo file{1..4}.txt\\\\nfile1.txt file2.txt file3.txt file4.txt\\\\n$ echo {a..e}\\\\na b c d e\\\\n$ echo {1..10..3}\\\\n1 4 7 10\\\\n$ echo {a..j..3}\\\\na d g j\\\\n</syntaxhighlight>\\\\n\\\\nWhen brace expansion is combined with variable expansion (A.K.A. \\'\\'parameter expansion\\'\\' and \\'\\'parameter substitution\\'\\') the variable expansion is performed \\'\\'after\\'\\' the brace expansion, which in some cases may necessitate the use of the <code>eval</code> built-in, thus:\\\\n\\\\n<syntaxhighlight lang=\\\\\"console\\\\\">\\\\n$ start=1; end=10\\\\n$ echo {$start..$end}  # fails to expand due to the evaluation order\\\\n{1..10}\\\\n$ eval echo {$start..$end} # variable expansion occurs then resulting string is evaluated\\\\n1 2 3 4 5 6 7 8 9 10\\\\n</syntaxhighlight>\\\\n\\\\n===Startup scripts===\\\\n\\\\n{{Section howto|date=January 2019}}\\\\n\\\\nWhen Bash starts, it executes the commands in a variety of . Unlike Bash shell scripts, dot files do not typically have execute permission enabled nor an  like <code>#!/bin/bash</code>.\\\\n\\\\n==== Legacy-compatible Bash startup example ====\\\\nThe skeleton <code>~/.bash_profile</code> below is compatible with the Bourne shell and gives semantics similar to csh for the <code>~/.bashrc</code> and <code>~/.bash_login</code>. The <code>[ -r \\'\\'filename\\'\\' ] &&  cmd</code> is a  that tests if \\'\\'filename\\'\\' exists and is readable, skipping the part after the <code>&&</code> if it is not.\\\\n\\\\n<syntaxhighlight lang=\\\\\"bash\\\\\">\\\\n[ -r ~/.profile ] && . ~/.profile             # set up environment, once, Bourne-sh syntax only\\\\nif [ -n \\\\\"$PS1\\\\\" ] ; then                       # are we interactive?\\\\n   [ -r ~/.bashrc     ] && . ~/.bashrc        # tty/prompt/function setup for interactive shells\\\\n   [ -r ~/.bash_login ] && . ~/.bash_login    # any at-login tasks for login shell only\\\\nfi                                            # End of \\\\\"if\\\\\" block\\\\n</syntaxhighlight>\\\\n\\\\n====Operating system issues in Bash startup====\\\\nSome versions of  and  contain Bash system startup scripts, generally under the <code>/etc</code> directories. Bash calls these as part of its standard initialization, but other startup files can read them in a different order than the documented Bash startup sequence. The default content of the root user\\'s files may also have issues, as well as the skeleton files the system provides to new user accounts upon setup. The startup scripts that launch the  may also do surprising things with the user\\'s Bash startup scripts in an attempt to set up user-environment variables before launching the . These issues can often be addressed using a <code>~/.xsession</code> or <code>~/.xprofile</code> file to read the <code>~/.profile</code> \\\\u2014 which provides the environment variables that Bash shell windows spawned from the window manager need, such as  or .\\\\n\\\\n===Portability===\\\\nInvoking Bash with the <code>--posix</code> option or stating <code>set -o posix</code> in a script causes Bash to conform very closely to the .<ref name=tldp>{{cite web|author=Mendel Cooper|title=Portability Issues|url=http://tldp.org/LDP/abs/html/portabilityissues.html|work=The Linux Documentation Project|publisher=ibiblio.org|access-date=January 26, 2012|archive-date=January 27, 2012|archive-url=https://web.archive.org/web/20120127105451/http://tldp.org/LDP/abs/html/portabilityissues.html|url-status=live}}</ref> Bash shell scripts intended for  should take into account at least the POSIX shell standard. Some bash features not found in POSIX are:<ref name=tldp /><ref name=deb>{{cite web |title=10. Files |url=https://www.debian.org/doc/debian-policy/ch-files.html#scripts |website=Debian Policy Manual v4.5.0.2 |access-date=May 11, 2020 |archive-date=May 12, 2020 |archive-url=https://web.archive.org/web/20200512050159/https://www.debian.org/doc/debian-policy/ch-files.html#scripts |url-status=live }}</ref>\\\\n\\\\n{{div col start}}\\\\n* Certain extended invocation options\\\\n* Brace expansion\\\\n* Arrays and associative arrays\\\\n* The double bracket {{code|}} extended test construct and its regex matching\\\\n* The double-parentheses arithmetic-evaluation construct (only {{code|(( ... ))}}; {{code|$(( ... ))}} is POSIX)\\\\n* Certain string-manipulation operations in parameter expansion\\\\n* {{code|local}} for scoped variables\\\\n* Process substitution\\\\n* Bash-specific builtins\\\\n* es\\\\n* $EPOCHSECONDS and $EPOCHREALTIME variables <ref>{{cite web|title=How To Format Date And Time In Linux, MacOS, And Bash?|url=https://www.shell-tips.com/linux/how-to-format-date-and-time-in-linux-macos-and-bash/#using-the-gnu-date-command-line|website=Shell Tips!|access-date=June 3, 2020|archive-date=June 3, 2020|archive-url=https://web.archive.org/web/20200603230615/https://www.shell-tips.com/linux/how-to-format-date-and-time-in-linux-macos-and-bash/#using-the-gnu-date-command-line|url-status=live}}</ref>\\\\n{{div col end}}\\\\n\\\\nIf a piece of code uses such a feature, it is called a \\\\\"bashism\\\\\" &ndash; a problem for portable use. Debian\\'s {{code|checkbashisms}} and Vidar Holen\\'s {{code|shellcheck}} can be used to make sure that a script does not contain these parts.<ref>{{man|1|checkbashisms|ManKier}}</ref><ref>{{man|1|shellcheck|ManKier}}</ref> The list varies depending on the actual target shell: Debian\\'s policy allows some extensions in their scripts (as they are in the  shell),<ref name=deb/> while a script intending to support pre-POSIX Bourne shells, like \\'s {{code|configure}}, are even more limited in the features they can use.<ref>{{cite web |title=Portable Shell |url=https://www.gnu.org/software/autoconf/manual/html_node/Portable-Shell.html |website=Autoconf |access-date=20 January 2020 |archive-date=March 2, 2021 |archive-url=https://web.archive.org/web/20210302212413/https://www.gnu.org/savannah-checkouts/gnu/autoconf/manual/autoconf-2.70/html_node/Portable-Shell.html |url-status=live }}</ref>\\\\n\\\\n===Keyboard shortcuts===\\\\n{{Main article|GNU Readline}}\\\\nBash uses readline to provide keyboard shortcuts for command line editing using the default () key bindings. s can be enabled by running <code>set -o vi</code>.<ref>{{cite web |url=http://www.hypexr.org/bash_tutorial.php#emacs |title=BASH Help - A Bash Tutorial |publisher=Hypexr.org |date=October 5, 2012 |access-date=July 21, 2013 |archive-date=March 2, 2021 |archive-url=https://web.archive.org/web/20210302213519/http://www.hypexr.org/bash_tutorial.php#emacs |url-status=live }}</ref>\\\\n\\\\n===Process management===\\\\nThe Bash shell has two modes of execution for commands: , and concurrent mode.\\\\n\\\\nTo execute commands in batch (i.e., in sequence) they must be separated by the character \\\\\";\\\\\", or on separate lines:\\\\n\\\\n<syntaxhighlight lang=\\\\\"bash\\\\\">\\\\ncommand1; command2\\\\n</syntaxhighlight>\\\\n\\\\nin this example, when command1 is finished, command2 is executed.\\\\n\\\\nA  of command1 can occur using (symbol &) at the end of an execution command, and process will be executed in background returning immediately control to the shell and allowing continued execution of commands.\\\\n<syntaxhighlight lang=\\\\\"bash\\\\\">command1 &</syntaxhighlight>\\\\n\\\\nOr to have a concurrent execution of two command1 and command2, they must be executed in the Bash shell in the following way:\\\\n\\\\n<syntaxhighlight lang=\\\\\"bash\\\\\">\\\\ncommand1 & command2\\\\n</syntaxhighlight>\\\\n\\\\nIn this case command1 is executed in the background \\'\\'&\\'\\' symbol, returning immediately control to the shell that executes command2 in the foreground.\\\\n\\\\nA process can be stopped and control returned to bash by typing {{Key press|Ctrl|z}} while the process is running in the foreground.<ref>{{cite web|url=https://www.gnu.org/software/bash/manual/bash.html#index-background|title=Bash Reference Manual|website=www.gnu.org|access-date=March 27, 2018|archive-date=March 15, 2018|archive-url=https://web.archive.org/web/20180315115230/http://www.gnu.org/software/bash/manual/bash.html#index-background|url-status=live}}</ref>\\\\n\\\\nA list of all processes, both in the background and stopped, can be achieved by running <code>jobs</code>:\\\\n<syntaxhighlight lang=\\\\\"console\\\\\">\\\\n$ jobs\\\\n[1]-  Running                  command1 &\\\\n[2]+  Stopped                  command2\\\\n</syntaxhighlight>\\\\n\\\\nIn the output, the number in brackets refers to the job id. The plus sign signifies the default process for <code>bg</code> and <code>fg</code>. The text \\\\\"Running\\\\\" and \\\\\"Stopped\\\\\" refer to the . The last string is the command that started the process.\\\\n\\\\nThe state of a process can be changed using various commands. The <code>fg</code> command brings a process to the foreground, while <code>bg</code> sets a stopped process running in the background. <code>bg</code> and <code>fg</code> can take a job id as their first argument, to specify the process to act on. Without one, they use the default process, identified by a plus sign in the output of <code>jobs</code>. The <code></code> command can be used to end a process prematurely, by sending it a . The job id must be specified after a percent sign:\\\\n\\\\n<syntaxhighlight lang=\\\\\"bash\\\\\">\\\\nkill %1\\\\n</syntaxhighlight>\\\\n\\\\n===Conditional execution===\\\\nBash supplies \\\\\"conditional execution\\\\\" command separators that make execution of a command contingent on the  set by a precedent command. For example:\\\\n\\\\n<syntaxhighlight lang=\\\\\"bash\\\\\">\\\\ncd \\\\\"$SOMEWHERE\\\\\" && ./do_something || echo \\\\\"An error occurred\\\\\" >&2\\\\n</syntaxhighlight>\\\\n\\\\nWhere \\'\\'./do_something\\'\\' is only executed if the \\'\\'cd\\'\\' (change directory) command was \\\\\"successful\\\\\" (returned an exit status of zero) and the \\'\\'echo\\'\\' command would only be executed if either the \\'\\'cd\\'\\' or the \\'\\'./do_something\\'\\' command return an \\\\\"error\\\\\" (non-zero exit status).\\\\n\\\\nFor all commands the exit status is stored in the special variable <code>$?</code>. Bash also supports {{code|2=bash|if ...;then ...;else ...;fi}} and {{code|2=bash|case $VARIABLE in $pattern)...;;$other_pattern)...;; esac}} forms of conditional command evaluation.\\\\n\\\\n===Bug reporting===\\\\n{{Redirect|bashbug|the widely reported September 2014 bug found in Bash|Shellshock (software bug)}}\\\\nAn external command called \\'\\'bashbug\\'\\' reports Bash shell bugs. When the command is invoked, it brings up the user\\'s default editor with a form to fill in. The form is mailed to the Bash maintainers (or optionally to other email addresses).<ref>[http://linux.die.net/man/1/bashbug bashbug(1)] {{Webarchive|url=https://web.archive.org/web/20181002232146/https://linux.die.net/man/1/bashbug |date=October 2, 2018 }}, die.net</ref><ref>[https://developer.apple.com/library/prerelease/mac/documentation/Darwin/Reference/ManPages/man1/bashbug.1.html \\\\\"Linux / Unix Command: bashbug\\\\\"] {{Webarchive|url=https://web.archive.org/web/20141006131347/https://developer.apple.com/library/prerelease/mac/documentation/Darwin/Reference/ManPages/man1/bashbug.1.html |date=October 6, 2014 }}, apple.com</ref>\\\\n\\\\n===Programmable completion===\\\\nBash supports programmable  via built-in <code>complete</code>, {{Code|compopt}}, and <code>compgen</code> commands.<ref>{{Cite web|url=https://tiswww.case.edu/php/chet/bash/bashref.html#Programmable-Completion|title=Bash Reference Manual|website=tiswww.case.edu}}</ref> The feature has been available since the beta version of 2.04 released in 2000.<ref>{{Cite web|title=Working more productively with bash 2.x/3.x|url=http://www.caliban.org/bash/index.shtml|url-status=live|archive-url=https://web.archive.org/web/20180629230903/http://www.caliban.org/bash/index.shtml|archive-date=June 29, 2018|access-date=June 21, 2018|website=www.caliban.org}}</ref><ref>{{Cite web|url=https://ftp.swin.edu.au/gnu/bash/|title=Index of /gnu/bash|website=ftp.swin.edu.au|access-date=September 15, 2019|archive-date=March 8, 2020|archive-url=https://web.archive.org/web/20200308104032/http://ftp.swin.edu.au/gnu/bash/|url-status=live}}</ref> These commands enable complex and intelligent completion specification for commands (i.e. installed programs), functions, variables, and filenames.<ref name=\\\\\":1\\\\\">{{Cite web|title=An Introduction to Programmable Completion|url=https://tldp.org/LDP/abs/html/tabexpansion.html|access-date=2022-01-21|website=tldp.org}}</ref>\\\\n\\\\nThe <code>complete</code>  and {{Code|compopt}} two commands specify how arguments of some available commands or options are going to be listed in the  input. As of version 5.1 completion of the command or the option is usually activated by the {{Key|tab}} keystroke after typing its name.<ref name=\\\\\":1\\\\\">{{Cite web|title=An Introduction to Programmable Completion|url=https://tldp.org/LDP/abs/html/tabexpansion.html|access-date=2022-01-21|website=tldp.org}}</ref>\\\\n\\\\n==Release history==\\\\n{| class=\\\\\"wikitable\\\\\"\\\\n|-\\\\n! Version\\\\n! Release date\\\\n!Release notes\\\\n|-\\\\n| bash-5.2\\\\n| 2022-09-26\\\\n|[https://git.savannah.gnu.org/cgit/bash.git/tree/NEWS?h=bash-5.2 NEWS]\\\\n|-\\\\n| bash-5.1\\\\n| 2020-12-07\\\\n|[https://github.com/bminor/bash/blob/8868edaf2250e09c4e9a1c75ffe3274f28f38581/NEWS github version history NEWS] <ref name=\\\\\"bashfaq061\\\\\" />\\\\n|-\\\\n| bash-5.0\\\\n| 2019-01-07\\\\n|<ref>{{Cite web|title=github version history NEWS v5.0|url=https://github.com/bminor/bash/blob/bash-5.0/NEWS|access-date=2021-03-01|website=GitHub|language=en|archive-date=May 4, 2022|archive-url=https://web.archive.org/web/20220504233136/https://github.com/bminor/bash/blob/bash-5.0/NEWS|url-status=live}}</ref><ref>{{Cite web |url=https://wiki.bash-hackers.org/scripting/bashchanges |title=Bash changes &#91;Bash Hackers Wiki&#93; |access-date=November 25, 2019 |archive-date=March 18, 2020 |archive-url=https://web.archive.org/web/20200318131209/https://wiki.bash-hackers.org/scripting/bashchanges |url-status=live }}</ref><ref>{{Cite web|title=Bash-5.0 release available|url=https://lists.gnu.org/archive/html/bug-bash/2019-01/msg00063.html|access-date=2021-03-01|website=lists.gnu.org|archive-date=November 8, 2020|archive-url=https://web.archive.org/web/20201108001733/https://lists.gnu.org/archive/html/bug-bash/2019-01/msg00063.html|url-status=live}}</ref>\\\\n|-\\\\n| bash-5.0-rc1\\\\n| 2018-12-20\\\\n|\\\\n|-\\\\n| bash-5.0-beta2\\\\n| 2018-11-28\\\\n|\\\\n|-\\\\n| bash-5.0-beta\\\\n| 2018-09-17\\\\n|\\\\n|-\\\\n| bash-5.0-alpha\\\\n| 2018-05-22\\\\n|\\\\n|-\\\\n| bash-4.4\\\\n| 2016-09-15\\\\n|[https://github.com/bminor/bash/blob/a0c0a00fc419b7bc08202a79134fcd5bc0427071/NEWS github version history NEWS v4.4]\\\\n|-\\\\n| bash-4.4-rc2\\\\n| 2016-08-22\\\\n|\\\\n|-\\\\n| bash-4.4-rc1\\\\n| 2016-02-24\\\\n|\\\\n|-\\\\n| bash-4.4-beta2\\\\n| 2016-07-11\\\\n|\\\\n|-\\\\n| bash-4.4-beta\\\\n| 2015-10-12\\\\n|\\\\n|-\\\\n| bash-4.3\\\\n| 2014-02-26\\\\n|\\\\n|-\\\\n| bash-4.2\\\\n| 2011-02-13\\\\n|\\\\n|-\\\\n| bash-4.1\\\\n| 2009-12-31\\\\n|\\\\n|-\\\\n| bash-4.0\\\\n| 2009-02-20\\\\n|\\\\n|-\\\\n| bash-4.0-rc1\\\\n| 2009-01-12\\\\n|\\\\n|-\\\\n| bash-3.2\\\\n| 2006-10-11\\\\n|\\\\n|-\\\\n| bash-3.1\\\\n| 2005-12-08\\\\n|\\\\n|-\\\\n| bash-3.0\\\\n| 2004-08-03\\\\n|\\\\n|-\\\\n| bash-2.05b\\\\n| 2002-07-17\\\\n|\\\\n|-\\\\n| bash-2.05a\\\\n| 2001-11-16\\\\n|\\\\n|-\\\\n| bash-2.05\\\\n| 2001-04-09\\\\n|\\\\n|-\\\\n| bash-2.04\\\\n| 2000-03-21\\\\n|\\\\n|-\\\\n| bash-2.03\\\\n| 1999-02-19\\\\n|\\\\n|-\\\\n| bash-2.02\\\\n| 1998-04-18\\\\n|\\\\n|-\\\\n| bash-2.01\\\\n| 1997-06-05\\\\n|\\\\n|-\\\\n| bash-2.0\\\\n| 1996-12-31\\\\n|\\\\n|}\\\\n\\\\n==See also==\\\\n{{Portal|Free and open-source software}}\\\\n* \\\\n{{Clear}}\\\\n\\\\n==References==\\\\n{{Reflist}}\\\\n\\\\n==External links==\\\\n{{Commons category|GNU Bash|Bash}}\\\\n{{Wikibooks|Bash Shell Scripting}}\\\\n* {{official website|https://www.gnu.org/software/bash/}}\\\\n* {{cite news |last1=Hamilton |first1=Naomi |title=The A-Z of Programming Languages: BASH/Bourne-Again Shell |website= |url=http://www.computerworld.com.au/article/222764/ |archive-url=https://web.archive.org/web/20161108230747/http://www.computerworld.com.au/article/222764/ |archive-date=8 November 2016 |date=2008-05-30 <!-- https://web.archive.org/web/20081205093826/http://www.computerworld.com.au/index.php/id;1591223321;pp;2;fp;16;fpid;1 \\\\n -->}}  (interview with GNU Bash\\'s maintainer, Chet Ramey)\\\\n\\\\n\\\\n{{GNU}}\\\\n{{Unix shells}}{{Programming languages}}\\\\n{{Authority control}}\\\\n\\\\n{{DEFAULTSORT:Bash (Unix Shell)}}\\\\n\\\\n\\\\n\\\\n\\\\n\\\\n\\\\n\\\\n\", \"2023-01-08\"]',\n",
       " 154)"
      ]
     },
     "execution_count": 68,
     "metadata": {},
     "output_type": "execute_result"
    }
   ],
   "source": [
    "re.subn(noun_matcher, \"\", sentence)"
   ]
  },
  {
   "cell_type": "code",
   "execution_count": null,
   "id": "9e38b696",
   "metadata": {},
   "outputs": [],
   "source": []
  }
 ],
 "metadata": {
  "kernelspec": {
   "display_name": "ml",
   "language": "python",
   "name": "ml"
  },
  "language_info": {
   "codemirror_mode": {
    "name": "ipython",
    "version": 3
   },
   "file_extension": ".py",
   "mimetype": "text/x-python",
   "name": "python",
   "nbconvert_exporter": "python",
   "pygments_lexer": "ipython3",
   "version": "3.10.8"
  }
 },
 "nbformat": 4,
 "nbformat_minor": 5
}
