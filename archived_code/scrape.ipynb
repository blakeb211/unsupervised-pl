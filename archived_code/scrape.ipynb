{
 "cells": [
  {
   "cell_type": "code",
   "execution_count": 1,
   "metadata": {},
   "outputs": [],
   "source": [
    "import requests, bs4\n",
    "from swampy import structshape\n",
    "from typing import List\n",
    "r_urls = \"https://cran.r-project.org/doc/manuals/r-release/R-lang.html\",\n",
    "p_urls = \"https://docs.python.org/3/reference/lexical_analysis.html\", \\\n",
    "    \"https://docs.python.org/3/reference/datamodel.html\", \\\n",
    "        \"https://docs.python.org/3/reference/executionmodel.html\",\\\n",
    "            \"https://docs.python.org/3/reference/import.html\",\\\n",
    "                \"https://docs.python.org/3/reference/expressions.html\",\\\n",
    "                    \"https://docs.python.org/3/reference/simple_stmts.html\",\\\n",
    "                        \"https://docs.python.org/3/reference/compound_stmts.html\",\\\n",
    "                            \"https://docs.python.org/3/reference/toplevel_components.html\","
   ]
  },
  {
   "cell_type": "code",
   "execution_count": 2,
   "metadata": {},
   "outputs": [],
   "source": [
    "def get_page_data(url):\n",
    "    \"\"\" Create soup object from a website url\"\"\"\n",
    "    res = requests.get(url)\n",
    "    if res.status_code != requests.codes.OK:\n",
    "        return\n",
    "    soup = bs4.BeautifulSoup(res.text, 'html.parser')\n",
    "    return soup"
   ]
  },
  {
   "cell_type": "code",
   "execution_count": 3,
   "metadata": {},
   "outputs": [],
   "source": [
    "def scrape_r() -> str:\n",
    "    \"\"\" Scrape R language definition \"\"\"\n",
    "    r_soup = get_page_data(r_urls[0])\n",
    "\n",
    "    result = r_soup.select('div > p')\n",
    "\n",
    "    # @NOTE: If we want to include the <code> tag sections for an analysis\n",
    "    if False:\n",
    "        code = r_soup.select('code')\n",
    "        code_res = \"\"\n",
    "        for t in code:\n",
    "            code_res += \" \" + t.text\n",
    "        print(code_res)\n",
    "\n",
    "    str_res = \"\"\n",
    "    for t in result:\n",
    "        str_res += \" \" + t.text\n",
    "\n",
    "    # Remove stop words\n",
    "    stop_words = \"[]\", \"Next: , Previous: , Up:\", \"Previous: , Up:\", \"Next:\"\n",
    "    for sw in stop_words:\n",
    "        str_res = str_res.replace(sw,'')\n",
    "\n",
    "    # @TODO: Convert several spaces to one space\n",
    "    return str_res"
   ]
  },
  {
   "cell_type": "code",
   "execution_count": 4,
   "metadata": {},
   "outputs": [],
   "source": [
    "def scrape_python() -> str:\n",
    "    \"\"\" Scrape python language specification \"\"\"\n",
    "    str_res = \"\"\n",
    "    for url in p_urls:\n",
    "        p_soup = get_page_data(url)\n",
    "        result = p_soup.select('p')\n",
    "        for t in result:\n",
    "            str_res += \" \" + t.text\n",
    "\n",
    "        # Remove stop words\n",
    "        stop_words = \"\"\n",
    "        for sw in stop_words:\n",
    "            str_res = str_res.replace(sw,'')\n",
    "\n",
    "        # @TODO: Convert several spaces to one space\n",
    "    return str_res"
   ]
  },
  {
   "cell_type": "code",
   "execution_count": 5,
   "metadata": {},
   "outputs": [],
   "source": [
    "import spacy, numpy as np"
   ]
  },
  {
   "cell_type": "code",
   "execution_count": 6,
   "metadata": {},
   "outputs": [],
   "source": [
    "r_text = scrape_r()\n",
    "py_text = scrape_python()"
   ]
  },
  {
   "cell_type": "code",
   "execution_count": 7,
   "metadata": {},
   "outputs": [
    {
     "data": {
      "text/plain": [
       "(125173, 285444)"
      ]
     },
     "execution_count": 7,
     "metadata": {},
     "output_type": "execute_result"
    }
   ],
   "source": [
    "len(r_text), len(py_text)\n"
   ]
  },
  {
   "cell_type": "code",
   "execution_count": 8,
   "metadata": {},
   "outputs": [],
   "source": [
    "# Load English tokenizer, tagger, parser and NER\n",
    "nlp = spacy.load(\"en_core_web_sm\")\n",
    "\n",
    "nouns = []\n",
    "verbs = []\n",
    "# Process whole documents\n",
    "for text in [r_text, py_text]:\n",
    "    doc = nlp(text)\n",
    "\n",
    "    # Analyze syntax\n",
    "    nouns += [[chunk.text for chunk in doc.noun_chunks]]\n",
    "    verbs += [[token.lemma_ for token in doc if token.pos_ == \"VERB\"]]\n",
    "\n",
    "    # Find named entities, phrases and concepts\n",
    "    # print(\"Concepts:\")\n",
    "    # for entity in doc.ents:\n",
    "    #     print(entity.text, entity.label_)"
   ]
  },
  {
   "cell_type": "code",
   "execution_count": 9,
   "metadata": {},
   "outputs": [
    {
     "data": {
      "text/plain": [
       "('list of (list of 5496 str, list of 12000 str)',\n",
       " 'list of (list of 2366 str, list of 6027 str)')"
      ]
     },
     "execution_count": 9,
     "metadata": {},
     "output_type": "execute_result"
    }
   ],
   "source": [
    "len(nouns),len(verbs)\n",
    "structshape.structshape(nouns), structshape.structshape(verbs)"
   ]
  },
  {
   "cell_type": "code",
   "execution_count": 10,
   "metadata": {},
   "outputs": [],
   "source": [
    "def clean_list_of_strs(t : List[str]):\n",
    "    # replace newlines in phrases\n",
    "    for idx, _ in enumerate(t):\n",
    "        t[idx] = t[idx].replace('\\n',' ')\n",
    "        t[idx] = t[idx].replace('the ','')\n",
    "        t[idx] = t[idx].replace('The ','')\n",
    "        t[idx] = t[idx].replace('A ','')\n",
    "        t[idx] = t[idx].strip()\n",
    "    # kill duplicates \n",
    "    rv = []\n",
    "    [rv.append(s) for s in t if s not in rv]\n",
    "    return rv"
   ]
  },
  {
   "cell_type": "code",
   "execution_count": 11,
   "metadata": {},
   "outputs": [],
   "source": [
    "for idx, _ in enumerate(nouns):\n",
    "    nouns[idx] = clean_list_of_strs(nouns[idx])\n",
    "    verbs[idx] = clean_list_of_strs(verbs[idx])"
   ]
  },
  {
   "cell_type": "code",
   "execution_count": 12,
   "metadata": {},
   "outputs": [
    {
     "name": "stdout",
     "output_type": "stream",
     "text": [
      "['This', 'an introduction', 'R language', 'evaluation', 'language', 'This manual', 'R', 'Copyright © 2000–2022 R Core Team    Objects', 'Previous: R Language Definition', 'R Language Definition', 'a system', 'statistical computation', 'graphics', 'It', 'other things', 'a programming language', 'high level graphics', 'other languages', 'debugging facilities', 'This manual details', 'a dialect', 'S', 'which', '1980s', 'widespread use', 'statistical community', 'Its principal designer', 'John M. Chambers', '1998 ACM Software Systems Award', 'S.  language syntax', 'a superficial similarity', 'C', 'semantics', 'functional programming language', 'stronger affinities', 'Lisp', 'APL', 'it', 'turn', 'functions', 'that', 'expressions', 'input', 'statistical modeling', 'simple expressions', 'command line', 'Some users', 'that level', 'others', 'their own functions', 'an ad hoc fashion', 'repetitive work', 'perspective', 'add-on packages', 'new functionality', 'purpose', 'this manual', ', objects', 'details', 'expression evaluation process', 'Major subsystems', 'specific tasks', 'text', 'some substantial differences', 'order', 'issue', 'we', 'R.', 'design', 'a number', 'fine points', 'common pitfalls', 'user', 'these', 'consistency considerations', 'a deeper level', 'useful shortcuts', 'idioms', 'quite complicated operations', 'underlying concepts', 'some cases', 'multiple ways', 'a task', 'some', 'techniques', 'language implementation', 'a higher level', 'abstraction', 'such cases', 'preferred usage', 'Some familiarity', 'a programmers’ reference manual', 'Other manuals', 'complementary information', 'particular Preface', 'An Introduction', 'R and System and foreign language interfaces', 'Writing R Extensions details', 'compiled code', 'Evaluation', 'Introduction', 'every computer language  variables', 'a means', 'data', 'memory', 'direct access', 'computer’s memory', 'specialized data structures', 'objects', 'These objects', 'symbols', 'variables', 'same way', 'any other object', 'many other languages', 'wide ranging effects', 'this chapter', 'preliminary descriptions', 'various data structures', 'R.  More detailed discussions', 'them', 'subsequent chapters', 'R specific function typeof', 'type', 'an R object', 'C code underlying R', 'all objects', 'pointers', 'a structure', 'typedef SEXPREC', 'different R data types', 'SEXPTYPE', 'information', 'various parts', 'structure', 'following table', 'possible values', 'typeof', 'what', 'they', 'Users', 'hold', 'types', 'a ‘*', 'Function mode', 'mode', 'an object', 'sense', 'Becker', 'Chambers', 'Wilks', 'other implementations', 'S language', 'function', 'storage mode', 'its argument', 'another language', 'FORTRAN', 'R objects', 'data type', 'routine', 'vectors', 'integer or real values', 'mode \"numeric', 'their storage modes', 'R  objects', 'different  types', 'computations', 'many functions', 'explicit  coercion', 'foreign languages', 'operating system', 'correct type', 'Attributes', 'Objects', 'Contents][Index]   Lists', 'Basic types', 'Vectors', 'contiguous cells', 'Cells', 'indexing operations', 'x[5', 'More details', 'Indexing', 'six basic (‘atomic’) vector types', 'logical, integer', 'string', 'character', 'modes', 'storage modes', 'different vector types', 'Single numbers', 'strings', 'length', 'no more basic types', 'String vectors', 'mode and storage mode \"character', 'single element', 'a character vector', 'a character string', 'Language objects', 'Previous: Vectors', 'Lists', '“generic vectors', 'another kind', 'data storage', 'elements', 'each', 'any type', 'R object', 'i.e. elements', 'a list', 'same type', 'List elements', 'three different  indexing operations', 'These', 'detail', 'basic vector types', 'atomic vectors', 'lists', 'Expression objects', 'Previous: Lists', 'three types', 'They', 'calls', 'names', 'type \"expression', 'use', 'word expression', 'other contexts', 'In particular syntactically correct expressions', 'statements', '\"expression', '\"name', 'quote mechanism', 'as.list and as.call functions', 'Components', 'parse tree', 'standard indexing operations', 'Language', 'Symbols', 'name', 'any R object', 'a symbol', 'mode \"name', 'storage mode \"symbol', '\"symbol', 'character strings', 'atoms', 'parsed expressions', 'y', 'Function objects', 'Previous: Language objects', 'one', 'An expression', 'one or more statements', 'statement', 'a syntactically correct collection', 'tokens', 'special language objects', 'parsed but unevaluated R statements', 'main difference', 'an expression object', 'several such expressions', 'Another more subtle difference', 'eval', 'other language objects', 'some unexpected cases', 'An  expression object', 'its components', 'components', 'NULL', 'Previous: Expression objects', 'R functions', 'Functions', 'more precisely, function closures', 'three basic components', 'a formal argument list', 'a body', 'an  environment', 'argument list', 'a comma-separated list', 'arguments', 'An  argument', 'a ‘symbol = default’ construct', 'special argument', 'second form', 'argument', 'a default value', 'an argument', 'This value', 'any value', 'that argument', '...  argument', 'any number', 'number', 'cases', 'another function', 'body', 'a parsed R statement', 'a collection', 'braces', 'a single statement', 'function’s   environment', 'environment', 'time', 'Any symbols', 'that environment', 'This combination', 'code', 'bindings', 'its environment', 'a ‘function closure', 'a term', 'functional programming theory', 'this document', 'term ‘function', 'closure', 'importance', 'attached environment', 'three parts', 'a closure object', 'formals', 'environment constructs', 'left hand side', 'assignments', 'unwanted environment capture', 'a function', 'a new environment', 'evaluation environment', 'whose enclosure', 'Environments', 'function closure', 'This new environment', 'unevaluated arguments', 'evaluation proceeds', 'local variables', 'a facility', 'list structures', 'as.list', 'as.function', 'compatibility', 'their use', 'Builtin objects', 'special forms', 'Previous: Function objects', 'a special object', 'a need', 'a vector', 'list', 'zero length', 'NULL object', 'no type', 'no modifiable properties', 'only one NULL object', 'all instances', 'NULL use is.null', 'You', 'attributes', 'Previous: NULL', 'These two kinds', 'object', 'builtin    functions', 'those', 'code listings', '.Internal function', 'hence not user', 'difference', 'argument handling', 'Builtin functions', 'their arguments', 'internal function', 'accordance', 'call', 'value', 'special functions', 'these objects', 'just another kind', 'is.primitive function', 'Promise objects', 'part', 'R’s lazy evaluation mechanism', 'three slots', 'a value', 'an expression', 'a   function', 'formal arguments', 'a promise', 'expression', 'that formal argument', 'a pointer', 'promise', 'no value', 'stored expression', 'stored environment', 'result', 'substitute function', 'content', 'expression slot', 'programmer', 'access', 'either value', 'promise objects', 'actual function arguments', 'this type', 'a delayedAssign function', 'no way', 'R code', 'a way', '... object type', 'a type', 'pairlist', 'usual pairlist manner', 'C code', 'interpreted code', 'even existence', 'such an object', 'future', 'promises', 'example', 'table', 'implementation', 'a pairlist object', 'R API', 'outside base R', 'this current description', 'other hand', 'other “dot-access” functions', 'elt', '“reserved words', 'page', 'stable R API', 'a formal argument', 'then any actual arguments', 'Pairlist objects', 'Dot-dot-dot, Up: Basic types', 'two things', 'frame', 'a set', 'symbol-value pairs', 'an enclosure', 'an enclosing environment', 'a matching symbol', 'its value', 'enclosing environment', 'process', 'a tree structure', 'enclosures', 'role', 'parents', 'tree', 'environments', 'an empty  environment', 'emptyenv', 'no parent', 'direct parent', 'base package', 'baseenv', '() function', 'function calls', 'Lexical environment', 'this case', 'its enclosure', 'currently called function', 'new.env', 'frame content', 'an environment', 'ls, names', 'parent.env function', 'enclosure', 'most other R objects', 'you', 'same environment', 'several symbols', 'surprises', '“Any” type', 'Previous: Environments', 'Lisp’s dotted-pair lists', 'internals', 'pairlist function', 'zero-length pairlist', 'contrast', 'a zero-length list', 'Each such object', 'a CAR value', 'a CDR value', 'a TAG value', 'TAG value', 'a text string', 'CAR', 'CDR', 'a list item', 'head', 'remainder', 'tail', 'a NULL object', 'terminator', 'CAR/CDR terminology', 'traditional Lisp', 'address', 'decrement registers', 'an early 60’s IBM computer', 'Pairlists', 'exactly same way', 'generic vectors', '(“lists', 'same [] syntax', 'pairlists', 'an internal pairlist', 'a generic vector', 'a very few cases pairlists', '.Options', 'Previous: Pairlist objects', 'a valid type value', 'certain (rather rare) circumstances', 'e.g. as.vector(x', 'any', 'that type  coercion', 'Special compound objects', 'All objects', 'one or more attributes', 'a pairlist', 'all elements', 'name=value pairs', 'listing', 'attributes<-', 'individual components', 'attr', 'Some attributes', 'special accessor  functions', 'factors', 'addition', 'additional operations', 'special attributes', 'enforces', 'consistency checks', 'Matrices', 'arrays', 'attribute dim', 'dimnames', 'vector', 'class structure', 'a class attribute', 'that attribute', 'Object-oriented programming', 'Dimensions', 'names attribute', 'individual elements', 'indexing purposes', 'One', 'names<- constructions', 'necessary consistency checks', 'proper type', 'one-dimensional arrays', 'pairlist objects', 'a virtual names attribute', 'tags', 'list components', 'dimnames[[1', 'Dimnames', 'Names', 'dim attribute', 'array', 'column-major order', 'integers', 'respective extents', 'product', 'lengths', 'dimensions', 'one or more dimensions', 'a one-dimensional array', 'a dim attribute', 'no dim attribute', 'Classes', 'Previous: Dimensions', 'Attributes \\xa0 [Contents][Index] Arrays', 'each dimension', 'dimnames attribute', 'character vectors', 'dimnames list', 'extent headings', 'Time series', 'Previous: Dimnames', 'an elaborate class system1', 'class attribute', 'This attribute', 'classes', 'This forms', 'basis', '“generic methods” functionality', 'R.  This attribute', 'restriction', 'users', 'no checking', 'class methods', 'caution', 'available specific creation', 'coercion functions', 'Previous: Classes', 'tsp attribute', 'parameters', 'time series', 'end', 'frequency', 'This construction', 'series', 'periodic substructure', 'monthly or quarterly data', 'a complex area', 'some general rules', 'Scalar functions', 'element', 'whose output', 'perhaps class', 'Binary operations', 'most attributes', 'longer argument', 'same length', 'both', 'values', 'operator', 'an empty index', 'all attributes', 'dim', 'subassignment', 'Coercion', 'default method', 'drops', 'Data frame objects', 'Factors', 'items', 'a finite number', 'gender', 'social class', 'factor', 'a levels attribute', 'class \"factor', 'a contrasts attribute', 'parametrisation', 'a   modeling functions', 'categories', 'latter case', 'a class vector c(\"ordered', ',\" factor', 'an integer array', 'actual levels', 'a second array', 'some calculations', 'an implementation issue', 'all implementations', 'R.   Previous', 'Data frames', 'R structures', 'SAS', 'i.e. a “cases', 'matrix', 'data frame', 'matrices', 'all', 'rows', 'case', 'a data frame', 'a names', 'a row.names attribute', 'other components', 'differing lengths', 'a data structure', 'ragged arrays', 'this writing', 'such arrays', 'Previous: Objects', 'a user', 'a command', 'prompt', 'a file', 'first thing', 'command', 'parser', 'an internal representation', 'evaluator executes', 'R expressions', 'All expressions', 'core', 'This chapter', 'basic mechanisms', 'evaluator', 'discussion', 'specific functions', 'groups', 'separate chapters', 'help pages', 'sufficient documentation', 'Control structures', 'Contents][Index]   Symbol lookup', 'Simple evaluation', 'Any number', 'a numeric', 'most cases', 'an integer', 'a numeric value', 'right thing', 'numbers', 'an integer value', 'We', 'this', 'various other techniques', 'simplest approach', 'suffix character', '‘L', 'integer value', 'suffix', 'intent', '‘0x10L', 'hexadecimal representation', 'constant 1e3L', 'term', 'a warning', 'numeric value', 'warning', 'an unnecessary decimal point', 'e.g. 1.L.', 'a syntax error', 'complex numbers', 'an error', 'Constants', 'Function', 'Previous: Constants', 'a new variable', 'a  name', 'itself', 'a  symbol', 'its  value', 'this small example', 'symbol', '(Computing', 'Operators', 'Symbol lookup', 'invocation', 'commas', 'this example', 'one argument', 'a huge number', 'different purposes', 'a result', 'their side effects', 'Function calls', 'plot(x', 'pch', 'Arguments', 'their meaning', 'their sequential positions', 'abscissa variable', 'y ordinate', 'an obvious convenience', 'a large number', 'optional arguments', 'special type', 'assignment operator', 'What', 'this construction', 'function class<-', 'original object', 'right hand side', 'This function', 'modification', 'original variable', 'Some additional effort', 'unnecessary data duplication', 'arithmetic expressions', 'operators', 'C programming language', 'instance', 'Expressions', 'parentheses', 'a straightforward manner  R', 'syntax', 'no difference', 'an operator', 'fact', '+', 'a non-standard function name', 'R deals', 'entire vectors', 'a time', 'elementary operators', 'basic mathematical functions', 'log', 'two vectors', 'element-wise sums', 'vector index', 'other operators', 'higher dimensional structures', 'two matrices', 'usual matrix product', '%*% operator', 'that purpose', 'Some finer points', 'vectorized operations', 'Elementary arithmetic operations', 'an atomic vector', 'x[i', 'construction', 'List components', 'x$a', 'Indexing constructs', 'an  assignment', 'indexing', 'x[2', 'R’s indexing operations', 'many advanced features', 'Computation', 'sequentially evaluating statements', 'Statements', 'x<-1:10', 'mean(y', 'colon', 'a new line', 'a syntactically complete statement', 'that statement', 'a statement', 'statement2', 'Both semicolons', 'new lines', 'semicolon', 'current statement', 'session', 'group', 'a block', 'Single statements', 'syntactically complete statement', 'Blocks', 'closing brace', 'this section', 'either a single statement', 'Looping', 'Previous: Control structures', 'if/else statement', 'two statements', 'a condition', 'first statement', 'second statement', 'if/else statement returns', 'formal syntax', 'statement1', 'value1', 'a logical vector', 'first element TRUE', 'then statement2', 'first element', 'statement3', 'a numeric vector', 'otherwise statement2', 'Only first element', 'All other elements', 'numeric problems', 'logarithm', 'a negative number', 'other statements', 'two examples', 'else clause', 'x <- x[x', 'if statement', 'same line', 'new line', 'simple solution', 'a compound statement', 'even numbered statements', 'resulting value', 'optional else clause', 'all odd numbered statements', 'no statement', 'odd numbered statements', 'then associated even numbered statement', 'statement6', 'no limit', 'repeat', 'Contents][Index] R', 'three statements', 'explicit looping.3', 'two built-in constructs', 'additional control', 'other functions', 'many operations', 'especially arithmetic ones', 'a loop', 'looping', 'break statement', 'an exit', 'innermost loop', 'next statement', 'control', 'start', 'loop', 'No statement', 'current loop', 'a loop statement', ', Previous: Looping', 'repeat statement', 'repeated evaluation', 'a break', 'danger', 'an infinite loop', 'repeat loop', 'a block statement', 'some computation', ', Previous: repeat', 'The', 'while loop', 'This process', 'switch', 'the', 'either a vector', 'each element', 'variable name', 'that element', 'side effect', 'last element', 'just another function', 'its semantics', 'control structures', 'other programming languages', 'corresponding element', 'too large or too small NULL', 'then element', 'a name', 'exactly matches value', 'no match', 'a single unnamed argument', 'a default', 'no default', 'common use', 'character value', 'returns', 'alternatives', 'best way', 'subset operator', 'eval(x[[condition', 'finer points', 'rules', 'basic operation', 'multiplication', 'two structures', 'a different number', 'c(1', 'a six-element vector', 'longer vector', 'a multiple', 'any arithmetic operation', 'a zero-length vector', 'a zero-length result', 'Dimensional attributes', 'Previous: Recycling rules', 'propagation', 'first one wins', 'I', 'no names', 'Propagation', 'matrix+matrix, dimensions', 'vector+matrix', 'first recycle', 'Previous: Dimensional attributes', 'statistical sense', 'whose value', 'NA', 'missing property', 'a function argument', 'multiple types', 'Nvalues', 'one case', 'default type', 'some other type', 'appearance', 'a missing value', 'numeric indexing', 'Numeric and logical calculations', 'operation', 'all possible values', 'this value', '‘FALSE', 'any other value', 'testing', 'is.na', 'an Nvalue', 'another Nvalue', 'match', 'Numeric calculations', 'whose result', 'double type', 'real or imaginary components', 'complex type', 'function is.nan', 'NaN', 'logical or integer type', 'an NA', 'appropriate type', 'coercion', 'string \"NaN', 'NaN values', 'so tests', 'equality', 'collation', 'any NaN value', 'no other value', 'even NA', 'character type', 'R 1.5.0 distinct', '\"NA', 'Programmers', 'who', 'an explicit string NA', 'as.character(NA', 'is.na<-', 'constants NA_integer', 'NA_complex_', 'NA_character', '_', 'control options', 'no Nvalue', 'raw vectors', 'Scope', 'several constructs', 'subsets', 'i-th element', 'multi-dimensional arrays', 'several forms', 'a single integer', 'parts', 'three basic indexing operators', 'following examples', 'forms', 'some slight semantic differences', '[ form', 'any names', 'that partial matching', 'character indices', 'When indexing multi-dimensional structures', 'a single index', 'ith sequential element', 'x.', 'any single element', 'selected elements', 'form', 'only a single element', 'integer', 'other recursive object', 'index', 'selected component', 'that component', 'a single element', '$ applies', 'recursive objects', 'only a literal character string', 'x[[expr', 'a non-recursive object', 'Indexing matrices', 'some powerful constructions', 'indices', 'simple vectors', 'simplicity', 'following possibilities', 'i.  Indexing', 'a missing (i.e. NA) value', 'an Nresult', 'This rule', 'logical indexing', 'an Nselector', 'i', 'their value', 'Notice', 'different modes', 'literal constant', 'other types', 'One effect', 'x[NA', 'x', 'x[c(1', 'That', 'logical indices', 'former case', 'integer indices', 'relevant subsetting', 'Indexing other structures', 'Subsetting multi-dimensional structures', 'same rules', 'single-dimensional indexing', 'each index variable', 'relevant component', 'place', 'couple', 'special rules', 'its dimension', 'which case', 'c(m)[i', 'm[1', 'a matrix', 'an index', 'columns', 'following example', 'm[2', 'one operation', 'negative indices', 'Nand zero values', 'an index matrix', 'a single  index', 'matrix indexing', 'a names attribute', 'an indexing operation', 'its extents', 'a single slice', 'a three-dimensional matrix', ') m[2', 'corresponding dimension', 'a single-dimensional structure results', '‘drop', 'FALSE', 'indexing operation', 'an additional argument', '[ function', 'index count', 'correct way', 'first row', 'n', '=', 'dropping feature', 'a common cause', 'failure', 'general subroutines', 'any subsetting', 'a vector result', '= FALSE', 'dim and dimnames attributes', 'One-dimensional arrays', 'subsetting operations', 'themselves', 'Some operations', 'm[FALSE', 'structures', 'a dimension', 'zero extent', 'these structures', 'Subset assignment', 'a generic function', 'user-defined indexing operations', 'any structure', 'Such a function', 'rest', 'index argument', 'mode \"symbol', 'x$\"abc\" form', 'basic methods', 'respect', 'partial matching', 'a class method', 'data frames', 'help page', 'broad terms', 'two indices', 'matrix-like indexing', 'that case', 'drop argument', 'basic operators', 'Only character indices', 'no partial matching', 'Previous: Indexing other structures', 'Assignment', 'a special case', 'a general mechanism', 'complex assignment', 'this command', 'following', 'a numeric index', 'numeric index', 'a', 'Any existing variable', '*', 'tmp', 'this variable name', 'same mechanism', 'replacement function', 'same name', 'Its last argument', 'new value', 'complex assignments', 'Complex assignments', 'Only target variable', 'local value', 'both LHS', 'RHS', 'e', 'superassignment statement', 'outer environment', 'superassignment', 'four lines', 'These two candidate interpretations', 'a local variable', 'a good idea', 'target variable', 'a superassignment', 'versions', 'a serious need', 'such code', 'Previous: Indexing', 'Almost every programming language', 'scoping rules', 'different objects', 'a global object', 'a lexical scoping model', 'languages', 'Pascal', 'a functional programming language', 'dynamic creation', 'manipulation', 'language objects', 'additional features', 'this fact', 'global  environment', 'root', 'user workspace', 'An  assignment operation', 'relevant object', 'global environment', 'Its enclosing environment', 'next environment', 'search path', 'empty environment', 'base environment', 'call stack', 'Previous: Global environment', 'Every call', 'a  function', 'a   frame', 'combination', 'terminology', 'a nesting', 'frames', 'other objects', 'standard objects', 'assignment', 'closure (mode \"function\") object', 'its definition', 'default', 'environment<-', 'its   evaluation environment', 'closure’s environment', 'caller', 'a variable', ', enclosure', 'a package', 'search', 'variable', 'Search path', 'Previous: Lexical environment', 'a new evaluation frame', 'any point', 'computation', 'currently active environments', 'a special construct', 'a context', 'contexts', 'its context', 'Making variables', 'dynamic scope', 'default scoping rules', '(lexical scope', 'Some functions', 'particularly those', 'Access', 'a family', 'Previous: call stack', 'evaluation   environment structure', 'a search path', 'packages', 'attached user data', 'An Autoloads environment', 'proxy objects', 'demand', 'Other environments', 'path', 'attach', 'library', 'Packages', 'a namespace', 'a different search path', 'a search', 'such a package', 'package', ', then its imports', 'then base namespace', 'finally global environment', 'regular search path', 'effect', 'references', 'same package', 'other packages', 'R Language Definition \\xa0 [Contents][Index]   Functions', 'Previous: Functions', 'a data analysis tool', 'most users', 'their own  functions', 'real advantages', 'R.  Users', 'system level functions', 'facilities', 'any functions', 'Writing', 'R documentation', 'Writing R Extensions', 'Writing functions', 'first component', 'function declaration', 'keyword function', 'An  argument list', 'a comma separated list', 'formal argument', 'form ‘symbol = expression', 'special formal argument', 'any valid R expression', 'a group', 'curly braces', 'an  anonymous function', 'Anonymous functions', 'apply family', 'outer', 'a simple function', 'echo <- function(x', 'print(x', 'echo', 'a single argument', 'Syntax', 'examples', 'whose values', 'these arguments', 'function body', 'function invocation', 'Default values', 'special form', '‘name = expression', 'corresponding symbol', 'evaluation frame', 'Default behaviours', 'any actual argument', 'An argument', 'its default value', 'missing function', 'supplied arguments', 'a variety', 'purposes', 'an arbitrary number', 'some arguments', 'an intermediate function', 'first class objects', 'Contents][Index]   Argument matching', 'Previous: Evaluation', 'a new  evaluation frame', 'this frame', 'Argument matching', 'this  environment frame', 'enclosing frame', 'environment frame', 'S.', 'their environment', 'namespaces', 'package namespace', 'Argument evaluation', 'Evaluation environment', 'This subsection', 'closures', 'primitive functions', 'latter', 'positional matching', 'their help pages', 'exceptions', 'signif', 'rep', 'seq.int', 'a  function evaluation', 'matching', 'actual or supplied arguments', 'a three-pass process', 'any arguments', 'match.call', 'match.fun', 'partial matching algorithm', 'pmatch', 'most important things', 'default arguments', 'calling function', 'R argument', 'corresponding formal argument', 'a supplied argument', 'calling frame', 'a form', 'lazy evaluation', 'function arguments', 'bad style', 'side-effects', 'foo', 'this same style', 'no guarantee', 'hence  assignment', 'foo(x <- y', 'calling  environment', 'actual (not default) expressions', 'mechanism', 'actual expression', 'only a pointer', 'any changes', 'this evaluation', 'a separate spot', 'Subsequent evaluations', 'this stored value', 'a second evaluation', 'unevaluated expression', 'substitute', 'each formal argument', 'local environment', 'actual argument', 'environment slot', 'no actual argument', 'a default expression', 'value slot', 'contents', 'value slot content', 'internal   functions', 'direct evaluation', 'another formal argument', 'other variable', 'lone label', 'label', 'next line', 'other promises', 'an unevaluated argument', 'its expression', 'Previous: Argument evaluation', 'Evaluation \\xa0 [Contents][Index] Scope', 'set', 'Every computer language', 'such rules', 'mechanisms', 'usual, or default rules', 'R adheres', 'lexical scope', 'variable  bindings', 'any unbound symbols', 'interesting properties', 'scope', 'this issue', 'All', 'bound symbols', 'Any other symbols', 'either local variables', 'unbound variables', 'local variable', 'no formal definition', 'Local variables', 'left-hand side', 'evaluation process', 'an unbound symbol', ', then its enclosure', 'a search list', 'first match', 'this set', 'then some', 'first glance', 'properties', 'simple example', 'rather interesting question', 'h', 'a function body', 'no problem', 'bound variables', 'h(3', 'its body', 'g.', 'that body', 'a language', 'f', 'different scoping rules', 'a variable y', 'your workspace', 'R Language Definition \\xa0 [Contents][Index] Object-oriented programming', 'a style', 'programming', 'recent years', 'popularity', 'complicated systems', 'several different mechanisms', 'any object-oriented language', 'concepts', 'class', 'methods', 'a definition', 'a class', 'several slots', 'class-specific information', 'An object', 'an instance', 'some class', 'Programming', 'instances', 'Computations', 'Methods', 'specific calculations', 'a specific class', 'language object', 'generic functions', 'appropriate method', 'generic function', 'its argument(s', 'that information', 'Another feature', 'most object-oriented languages', 'concept', 'inheritance', 'most programming problems', 'many objects', 'some components', 'a class inherits', 'another class', 'all slots', 'parent class', 'new slots', 'method dispatching', 'a method', 'parent', 'this general strategy', 'limitations', 'current design', 'advantages', 'most object systems', 'greater consistency', 'compiler', 'interpreter', 'way', 'object system', 'this advantage', 'a straightforward manner', 'some rather interesting feats', 'obfuscated code', 'implementation details', 'greatest use', 'object oriented programming', 'print methods', 'summary methods', 'plot methods', 'These methods', 'us', 'one generic  function call', 'plot', 'a plotting function', 'a small system', 'students', 'probability', 'this system', 'probability functions', 'moments', 'Probabilities', 'terms', 'cumulative distribution function', 'other ways', 'a density', 'a moment', 'Inheritance', 'a full-fledged  object-oriented system R', 'a class system', 'a mechanism', 'dispatch mechanism', 'four special objects', 'These special objects', '.Group', 'a separate dispatch mechanism', 'internal functions', 'class system', 'class names', 'class \"foo\" one', 'string ‘\"foo', 'virtually anything', 'class \"foo', 'two dispatching functions', 'UseMethod', 'NextMethod', 'typical use', 'a very simple function', 'a single line', 'system function', 'just such a function', 'its first argument', 'that first argument', 'which method', 'variable .Class', '\"mean', 'correct method', 'class attributes', 'any other arguments', '\"foo', '\"bar', 'that order', 'mean.foo', 'that search', 'a final search', 'mean.default', 'last search', 'unsuccessful R', 'a default method', 'this context', 'another mechanism', 'a call', 'determination', 'current values', '.Class', '.Generic', 'method', 'an ordinary function', 'no values', 'first argument', 'An error', 'this argument', 'a specific method', 'a few operations', 'next appropriate method', 'following simple example', 'point', 'two-dimensional Euclidean space', '-', 'location', 'two classes', '\"xypoint', '\"rthetapoint', 'All ‘xypoint’ data structures', 'an x', 'component', 'a y-component', 'All ‘rthetapoint’ objects', 'an r-component', 'a theta-component', 'position', 'either type', 'generic function xpos', 'function xpos', 'either representation', 'internal dispatching method', 'appropriate methods', 'other representations', 'a new generic function', 'only methods', 'existing systems', 'new representation', 'existing representations', 'bulk', 'uses', 'this methodology', 'different types', 'about 40 methods', 'print', 'Method dispatching', 'Previous: Definition', 'several elements', 'a  generic function', 'first inheritance', 'next class', 'th  FIXME', 'something', 'Previous: Inheritance', 'Generic functions', 'foo <- function(x', 'UseMethod(\"foo', 'appropriate  method', 'that method', 'same arguments', 'same order', 'generic', 'generic.class', 'that name', 'no such function', 'second element', 'no method', 'that point', 'method generic.default', 'no class attribute', 'generic.default', 'introduction', 'their names', 'getS3method(\"generic\",\"class', 'Any object', 'Each', 'a string', 'a special function', 'other function calls', 'UseMethod(generic, object', 'evaluation model', 'two ways', 'next method', '(function', 'current evaluation  environment', 'this process', 'second way', 'any statements', 'specified value', 'either supplied second argument', 'current function', 'name foo', 'bar', 'foo.bar', 'no such method', 'inheritance mechanism', 'an appropriate method', 'a special way', 'a new evaluation  environment', 'current function call', '(call', 'Any  assignments', 'evaluations', 'selected method', 'same names', 'standard R rules', 'argument matching', 'i.e. first argument', 'some special objects', 'method dispatch', 'internal interfaces', 'Section Group methods', 'initial call', 'these special variables', 'selection', 'subsequent methods', 'standard fashion', 'particular variable look-up', 'an associated environment', 'Any local  assignments', 'Use', 'this feature', 'hence any expressions', 'Any arguments', 'two arguments', 'second', 'required method', 'other arguments', 'Group methods', 'a simple inheritance mechanism', 'previous method', 'inherited method', 'current method', 'corresponding formal arguments', 'Unevaluated arguments', 'Missing arguments', 'NextMethod(generic', 'Values', '... argument', 'choice', 'no .Generic', '.Method', 'generic argument', 'These choices', 'default values', 'behaviour', 'An issue', 'White Book', '- named arguments', 'corresponding arguments', 'Unnamed arguments', 'argument   list', 'a named list element', 'list value', 'argument value', 'first unnamed list element  Values', 'lookup', 'Class', 'NextMethod  Generic', 'first  argument', 'NextMethod  Method', 'current function name', 'Writing methods', 'several types', 'internal functions R', 'a dispatching mechanism', 'their behaviour', 'members', 'special classes', 'three categories', 'group methods', 'these categories', 'no mechanism', 'any function', 'different Groups', 'Ops group', 'a special method', 'two operands', 'a single method', 'both operands', 'same method', 'one operand', 'precedence', 'other operand', 'Either a group method', 'no corresponding method', 'class method', 'a group method', 'Ops', 'special variable', 'a string vector', 'two elements', 'corresponding argument', 'a member', 'zero length string', 'Previous: Group methods', 'their own methods', 'either UseMethod', 'default rules', 'most common use', 'print and summary methods', 'statistical objects', 'generally output', 'some model fitting process', 'each model', 'its output', 'that output', 'a nice readable version', 'summary', 'nice output', 'results', 'any analysis', 'System', 'foreign language interfaces', 'programming languages', 'subroutines', 'ability', 'other subroutines', 'an integral part', '“functional programming” variety', 'ALGOL family', 'Lisp family', 'extreme', 'everything', 'paradigm', 'no distinction', 'programs', 'a friendlier interface', 'someone', 'mathematical formulas', 'C-like control structures', 'engine', 'entirely new functions', 'scratch', 'standard applications', 'this facility', 'calculation', 'analytical derivatives', 'generation', 'polynomial functions', 'coefficients', 'workings', 'interpreted part', 'R.  Some', 'reuse', 'several modeling', 'routines', 'Other uses', 'elegant interfaces', 'useful functionality', 'an example', 'curve function', 'graph', 'sin(x', 'mathematical expressions', 'Substitutions', 'Computing', 'three kinds', 'this point', 'call objects', 'unevaluated expressions', 'this terminology', 'most direct method', 'a call object', 'quote', 'an expression argument', 'parsed argument', 'e1', 'e2', 'e2 object', 'mode \"call', 'plot function', 'exactly same structure', 'binary operator', 'a fact', 'following  components', 'a list-like syntax', 'keyword argument matching', 'keywords', 'list tags', 'All components', 'call object', 'preceding examples', 'identifiers', 'constants', 'subexpressions', 'mode  name', 'as.name', 'All grouping parentheses', '-\"(4', '(\" (\"-\"(2', 'prefix notation', '‘(’ operator', 'a  parser/deparser combination', 'user input', 'minimal form', 'a deparsed expression', 'same expression', 'R’s parser', 'its deparser', 'following examples show', 'Deparsed expressions', 'an equivalent value', 'original expression', 'error', 'internal storage', 'flow control constructs', 'Splus incompatibility', 'Direct manipulation', 'innards', 'previous section', 'labeling plots', 'An example', 'beginning', 'plot.default', 'x argument', 'to plot', 'axis', 'x.  Notice', 'lazy evaluation scheme', 'that expression', 'a promise variable', 'its expression slot', 'substitution', 'a simple identifier', 'several variables', 'This kind', 'connection', 'math expression', 'graphs', 'following case', 'substitutions', 'resulting call objects', 'substitute(x', 'some parts', 'their own rules', 'a use', 'such ill-formed expressions', '“math', 'graphs” feature', 'constructions', '\" years', 'Substitute', 'puzzle', 'solution', 'this  exact rules', 'Each  symbol', 'second argument', 'a tagged list', 'an environment frame', 'a simple local object', 'usually a function argument', 'promise expression', 'special exception', 'top level', 'rationale', 'no control', 'substitute act', 'rule', 'promise substitution', 'argument expression', 'curious consequence', 'f((1', 'f(1', 'S.  R rule', 'consequences', 'a surprise', 'y label', 'an ugly c(...) expression', 'ylab expression', 'ylab', 'eval(ylab', 'this situation', 'a language or expression object', 'a math expression', 'variant', 'bquote', 'some subexpressions', 'their values', '() subexpressions', 'an optional argument', 'a different environment', 'LISP backquote macro', 'expression objects', 'eval function', 'full story', 'relevant evaluation frame', 'current frame', 'a substitute operation', 'no reason', 'callee', 'parent frame', 'an eval.parent function', 'a shorthand', 'eval(expr', 'sys.frame(sys.parent', 'Another case', 'model.frame function', 'a data argument', 'model formula', 'model.frame', 'simulation studies', 'this purpose', 'form  Notice', 'that evaluation', 'a given environment', 'original list', 'a copy', 'Manipulation', 'mode \"expression', 'each call', 'final value', 'last call', 'this respect', 'compound language object quote({2', 'a subtle difference', 'Call objects', 'a parse tree', 'a subexpression', 'a sense', 'their quotedness', 'deparser', 'numerical vectors', 'several other objects', 'a specific external representation', 'following bit', 'confusion', 'I.e.', 'ee', 'object itself', 'sys.call', 'its own call', 'track', '2nd actual argument', 'above example', 'all actual arguments', 'corresponding formals', 'this end', 'a variant', 'preceding example', 'corresponding position', 'primary use', 'this technique', 'typical application', 'lm function', 'resulting call', 'which one', 'involved expressions', 'a list object', 'remaining elements', 'actual argument expressions', 'corresponding formal argument names', 'technique', 'undesired arguments', 'lines', 'tagged list  assignment', 'drop.unused.levels', 'line', 'as.name(\"model.frame', ') construction', 'quote(model.frame', 'match.call function', 'an expand.dots argument', 'a switch', 'FALSE lets', 'tag', 'not a call', 'One reason', 'this form', 'any ... arguments', 'unspecified arguments', 'more elaborate application', 'optional extra arguments', 'original call', 'care', 'existing arguments', '== NULL', 'Concatenation', 'a bug', 'Two further functions', 'do.call', 'function call', 'creation', 'function name', 'round(x', 'a character variable', 'mode \"list', 'all arguments', 'natural use', 'cbind', 'variations', 'do.call(\"f', ', list', 'actual function call', 'aspects', 'lazy evaluation and argument substitution', 'similar remark', 'call function', 'interface functions', 'different variables', ', environment(f', 'concatenation', 'such a list', 'This functionality', 'S compatibility', 'that environment information', 'operating system shell', 'R function system', 'platform', 'a string command', 'execution', 'a shell', 'output', 'an R character vector', 'system.time', 'proc.time', 'timing', 'non-Unix-like platforms', 'Information', 'uniform', 'file access functions', 'all platforms', 'file names', 'paths', 'a platform-independent way', 'Operating system access', 'foreign language', 'R Extensions', 'functionality', 'a standard interface', 'to compiled code', 'build time', 'dyn.load', 'compiled C and FORTRAN code', '.C function', 'C interfaces', 'C++', 'interfaces', '(primarily compiled C code', '.Internal', '.Primitive interfaces', 'R Internals', 'Debugging', 'exception', 'two mechanisms', 'stop', 'options', '\"warn', 'handling', 'problems', 'Exception handling', 'halts', 'current expression', 'message argument', 'top-level', 'on.exit', 'function warning', 'option', 'negative warnings', 'top-level function', 'warnings', 'errors', 'a variable last.warning', 'messages', 'this vector', 'fewer than 10 warnings', 'a message', 'how many warnings', 'either case', 'last.warning', 'Error options', 'Previous: warning', 'some system parameters', 'appropriate values', 'on.exit code', 'an immediate jump', 'further processing', 'options variables', 'options(\"error', 'options(error', 'expression(q(\"yes', 'Parser', 'Debugging code', 'a bit', 'an art', 'several tools', 'their code', 'These tools', 'particular points', 'current state', 'Most debugging', 'browser', 'debug', 'Both', 'these functions', 'same internal mechanism', 'a special prompt', 'Any command', 'evaluation  environment', 'currently active environment', 'any variables', 'five special commands', 'special commands', 'get', 'quotes', 'current  environment', 'debugger', 'a foreign language', 'that language', 'Execution', 'R. symbolic debugger', 'gdb', 'Debugging \\xa0 [Contents][Index] call', 'function browser', 'trace/untrace', 'Previous: browser', 'command debug(fun', 'each statement', 'special meaning', 'traceback', 'Another way', 'trace mechanism', 'trace', 'some functions', 'This mechanism', 'untrace', 'a jump', 'a special variable', 'one entry', 'each function call', 'An examination', '.Traceback', 'textual representation', 'an internal form', 'R evaluator', 'specified instructions', 'internal form', 'R system', 'Comments', 'Parser \\xa0 [Contents][Index]   Internal representation', 'parsing process', 'three different variants', 'basic command line interface', 'R. Textual input', 'a complete R expression', 'several input lines', 'primary prompt', 'a new expression', 'a continuation prompt', 'an incomplete expression', 'parsed expression', 'a state', 'language syntax', 'a “Syntax Error', 'next input line', 'Text files', 'parse function', 'source function', 'commands', 'an external file', 'keyboard', 'entire file', 'any evaluation', 'Character strings', 'text= argument', 'an input file', 'Deparsing', 'Modes', 'Parsed expressions', 'fuller description', 'such objects', 'every elementary R expression', 'function call form', 'further R expressions', 'list elements', 'tagged matching', 'formal and actual arguments', 'all R syntax elements', 'this way', ', e.g. assignment', '-\"(x', 'Previous: Internal representation', 'Any R object', 'an R expression', 'deparse', 'only objects', 'numeric vector', '\"c(1', 'deparsed and reparsed expression', 'same result', 'a couple', 'awkward exceptions', 'a textual representation', 'first place', 'Tokens', 'Any text', 'a  # character', 'a comment', '# character', 'a quoted string', 'elementary building blocks', 'lexical analysis', 'syntactic analysis', 'Identifiers', 'five types', 'four special constants', 'Inf', 'empty object', 'absent (“Not Available”) data values', 'a-number', 'IEEE floating point calculus', 'operations', 'Logical constants', 'Numeric constants', 'a similar syntax', 'C language', 'an integer part', 'zero or more digits', 'a fractional part', 'an exponent part', 'an ‘E', 'an ‘e', 'an optional sign', 'one or more digits', 'decimal part', 'or ‘0x', 'a-f', '‘A-F', 'Hexadecimal floating point constants', 'C99 syntax', 'a separate class', 'integer constants', 'qualifier L', 'suffix L', 'any non-complex number', 'hexadecimal or scientific notation', 'a valid integer', 'valid integer constants', 'numeric constants', 'syntax errors', 'decimal values', 'a decimal point', 'a hexadecimal constant', 'binary exponent', 'a preceding sign', 'a unary operator', 'date', 'currently accepted formats', '?NumericConstants', 'Complex constants', 'a decimal numeric constant', 'only purely imaginary numbers', 'actual constants', 'other complex numbers', 'a unary or binary operations', 'numeric and imaginary numbers', 'String constants', 'a pair', 'all other printable characters', 'Quotes', 'other special characters', 'escape sequences', 'single quote', 'a double-quote delimited string', '‘nul', '\\\\0', 'a string constant', '): further characters', 'closing quote', 'Reserved words', 'a sequence', 'letters', 'digits', 'period', 'underscore', 'a digit', 'an underscore', 'a period', 'definition', 'a letter', 'current locale', 'precise set', 'characters', 'C expression', 'isalnum(c', '||', 'c == â\\x80\\x98.â\\x80\\x99 ||', 'c', 'â\\x80\\x98_â\\x80\\x99', 'accented letters', 'many Western European locales', 'ls function', 'text strings', 'some limited circumstances', 'no ambiguity', 'assign', 'subscripting operators', 'replacement functions', 'following pairs', 'equivalent      Special operators', 'following identifiers', 'a special meaning', 'object names    Separators', 'Previous: Reserved words', 'user-defined infix operators', '‘%’ character', 'any printable character', 'escape', 'following operators', 'predefined    Operator tokens', 'Special operators', 'Although not strictly tokens, stretches', 'whitespace characters', 'spaces', 'tabs', 'formfeeds', 'Windows and UTF-8 locales', 'other Unicode whitespace characters4', 'ambiguity', 'Newlines', 'a combination', 'token separator', 'expression terminator', 'newline', 'whitespace', 'Semicolons', 'elementary   expressions', 'Special rules', 'else keyword', 'a compound expression', 'a newline', 'outermost level', 'This somewhat anomalous behaviour', 'interactive mode', 'input expression', 'RET', 'comma', 'multiple indices', 'Grouping', 'Separators', 'following operator tokens', 'different meaning', 'model formulas', 'Indexing tokens', 'Operator tokens', 'argument lists', 'function definitions', 'Braces', 'blocks', 'conditional expressions', 'iterative constructs', 'single and double brackets', 'indexing tagged lists', '‘$’ operator', 'Directives', 'An R program', 'a simple expression', 'an identifier', 'other parts', 'following sections', 'various syntactical constructs', 'a function reference', 'function reference', 'Each argument', 'expr', 'special tokens', 'Index constructions', '/-', 'exponentiation operator', '’ group', 'all other operators group', '%', 'and %/%', 'integer remainder', 'higher precedence', 'multiply', '‘=’ sign', 'tagging arguments', '‘$’ sign', 'some sense', 'arbitrary right hand sides', 'parsed form', 'a unary or binary operation', 'a function call', 'operands', 'Parentheses', 'operator precedence', 'a * (b', 'assignment symbols', 'arithmetic, relational', 'logical ones', 'Any expression', 'target side', 'an assignment', 'a valid expression', 'Similar comments', 'model formula operator', 'Compound expressions', 'Infix', 'three indexing constructs', 'somewhat different semantics', 'any valid expression', 'a subsettable object', 'numerical or character indices', 'other kinds', 'these index constructs', 'third index construction', '\"$\"    Flow control elements', 'compound expression', 'semicolons', 'newlines', 'Function definitions', 'Previous: Compound expressions', 'following control structures', 'special syntactic constructs', 'these constructs', 'compound expressions', 'loop constructs', 'break', 'next iteration', 'constructs', 'Previous: Flow control elements', 'function definition', 'often a compound expression', 'arglist', '‘identifier = default', 'special token', '“strange names', 'a function definition', 'function name function', 'a tagged pairlist', 'argument names', 'default expressions', 'Previous: Expressions', 'one directive', '#line', 'C-preprocessor directive', 'nn', 'an integer line number', 'optional filename', 'required double quotes', 'source file', 'C directive', 'first five characters', 'a line', '\"filename\" entries', 'any following text', 'This directive', 'following line', 'file filename', 'filename', 'previous directive', 'preprocessors', 'diagnostic messages', 'original file', 'Concept Index', 'R Language Definition \\xa0 [Contents][Index]   References', 'Function and Variable Index', 'Richard A. Becker', 'Allan R. Wilks', 'New S Language', 'Chapman', 'Hall', 'This book', '“Blue Book', 'this draft manual', 'more details', 'block', 'U+A0, non-breaking space', 'U+3000', 'ideographic space']\n"
     ]
    }
   ],
   "source": [
    "print(nouns[0])"
   ]
  },
  {
   "cell_type": "code",
   "execution_count": 13,
   "metadata": {},
   "outputs": [
    {
     "name": "stdout",
     "output_type": "stream",
     "text": [
      "['This', 'evaluation', 'language', 'It', 'other languages', 'which', 'C', 'semantics', 'it', 'turn', 'functions', 'that', 'expressions', 'input', 'command line', 'others', 'purpose', 'details', 'order', 'we', 'a number', 'user', 'these', 'some cases', 'some', 'abstraction', 'such cases', 'Evaluation', 'Introduction', 'a means', 'data', 'memory', 'objects', 'These objects', 'variables', 'same way', 'any other object', 'them', 'type', 'all objects', 'information', 'following table', 'possible values', 'what', 'they', 'Users', 'types', 'an object', 'sense', 'other implementations', 'function', 'its argument', 'Objects', 'More details', 'string', 'character', 'strings', 'length', 'Lists', 'elements', 'each', 'any type', 'a list', 'same type', 'These', 'lists', 'three types', 'They', 'calls', 'names', 'use', 'statements', 'name', 'atoms', 'y', 'Function objects', 'one', 'statement', 'tokens', 'eval', 'components', 'Functions', 'argument list', 'a comma-separated list', 'arguments', 'second form', 'argument', 'a default value', 'an argument', 'any value', 'any number', 'number', 'body', 'braces', 'a single statement', 'time', 'code', 'bindings', 'closure', 'assignments', 'a function', 'local variables', 'compatibility', 'their use', 'list', 'You', 'attributes', 'object', 'those', 'difference', 'their arguments', 'call', 'value', 'part', 'a value', 'an expression', 'expression', 'no value', 'result', 'access', 'this type', 'no way', 'a way', 'a type', 'future', 'example', 'implementation', 'frame', 'a set', 'its value', 'process', 'parents', '() function', 'this case', 'you', 'contrast', 'remainder', 'any', 'all elements', 'attr', 'addition', 'a class attribute', 'that attribute', 'individual elements', 'One', 'proper type', 'Names', 'integers', 'product', 'Classes', 'class attribute', 'This attribute', 'classes', 'restriction', 'users', 'class methods', 'parameters', 'end', 'same length', 'both', 'values', 'operator', 'items', 'latter case', 'all', 'case', 'a command', 'a file', 'first thing', 'parser', 'This chapter', 'groups', 'most cases', 'an integer', 'a numeric value', 'numbers', 'this', 'a warning', 'numeric value', 'warning', 'a syntax error', 'complex numbers', 'an error', 'Function', 'itself', 'Operators', 'commas', 'one argument', 'a result', 'their side effects', 'their meaning', 'optional arguments', 'assignment operator', 'original object', 'right hand side', 'operators', 'instance', 'Expressions', 'parentheses', 'syntax', 'no difference', 'fact', '+', 'a time', 'x[i', 'construction', 'Statements', 'colon', 'a statement', 'semicolon', 'a block', 'this section', 'first statement', 'formal syntax', 'a negative number', 'else clause', 'same line', 'resulting value', 'optional else clause', 'no limit', 'other functions', 'break statement', 'control', 'start', 'loop', 'The', 'the', 'a name', 'no match', 'returns', 'rules', 'multiplication', 'a multiple', 'whose value', 'operation', 'this value', 'match', 'appropriate type', 'equality', '_', 'parts', 'forms', 'x.', 'form', 'integer', 'index', 'indices', 'This rule', 'i', 'their value', 'other types', 'x', 'That', 'former case', 'same rules', 'place', 'which case', 'an index', 'following example', 'negative indices', 'n', '=', 'failure', 'themselves', 'Such a function', 'rest', 'respect', 'a class method', 'that case', 'Assignment', 'a special case', 'following', 'a', '*', 'same name', 'e', 'a local variable', 'a good idea', 'versions', 'scoping rules', 'different objects', 'search path', 'call stack', 'combination', 'other objects', 'assignment', 'default', 'caller', 'a variable', 'a package', 'search', 'variable', 'contexts', 'packages', 'path', 'a namespace', 'a search', 'package', 'effect', 'references', 'facilities', 'a group', 'curly braces', 'a single argument', 'Syntax', 'examples', 'function body', 'Default values', 'supplied arguments', 'a variety', 'purposes', 'an arbitrary number', 'this frame', 'This subsection', 'latter', 'exceptions', 'any arguments', 'foo', 'contents', 'set', 'scope', 'All', 'left-hand side', 'properties', 'a function body', 'f', 'class', 'methods', 'a definition', 'a class', 'An object', 'an instance', 'instances', 'Methods', 'a class inherits', 'another class', 'parent class', 'a method', 'parent', 'limitations', 'compiler', 'interpreter', 'way', 'These methods', 'us', 'terms', 'typical use', 'a single line', 'its first argument', 'class attributes', 'that order', 'that search', 'this context', 'a call', 'method', 'first argument', 'a specific method', 'point', '-', 'appropriate methods', 'different types', 'print', 'something', 'that method', 'same order', 'that name', 'no class attribute', 'Each', 'a string', 'foo.bar', 'no such method', 'initial call', 'Use', 'this feature', 'two arguments', 'default values', 'behaviour', 'lookup', 'members', 'any function', 'a special method', 'two operands', 'precedence', 'class method', 'corresponding argument', 'a member', 'results', 'programs', 'Other uses', 'an example', 'keywords', 'identifiers', 'constants', 'error', 'An example', 'beginning', 'that expression', 'second argument', 'rationale', 'no reason', 'a shorthand', 'this purpose', 'each call', 'final value', 'a sense', 'confusion', 'a variant', 'a list object', 'line', 'this form', 'care', 'function call', 'creation', 'function name', 'all arguments', 'variations', 'concatenation', 'platform', 'execution', 'output', 'functionality', 'exception', 'handling', 'errors', 'either case', 'quotes', 'debugger', 'Execution', 'each statement', 'special meaning', 'traceback', 'Comments', 'language syntax', 'such objects', 'this way', 'same result', 'first place', 'a comment', 'lexical analysis', 'Identifiers', 'operations', 'a decimal point', 'date', 'a pair', 'escape sequences', 'a sequence', 'digits', 'period', 'an underscore', 'a period', 'definition', 'a letter', 'characters', 'c', 'following identifiers', 'a special meaning', 'spaces', 'tabs', 'ambiguity', 'newline', 'whitespace', 'a newline', 'interactive mode', 'function definitions', 'blocks', 'conditional expressions', 'an identifier', 'following sections', 'expr', '%', 'some sense', 'operands', 'operator precedence', 'an assignment', 'a valid expression', 'semicolons', 'Function definitions', 'break', 'function definition', 'a function definition', 'argument names', 'source file', 'a line', 'following line', 'filename', 'more details', 'block']\n"
     ]
    }
   ],
   "source": [
    "# Find nouns contained in both languages\n",
    "both_langs = []\n",
    "for n in nouns[0]:\n",
    "    if n in nouns[1]:\n",
    "        both_langs += [n]\n",
    "print(both_langs)"
   ]
  },
  {
   "cell_type": "code",
   "execution_count": 16,
   "metadata": {},
   "outputs": [
    {
     "data": {
      "text/plain": [
       "(2580, 5232)"
      ]
     },
     "execution_count": 16,
     "metadata": {},
     "output_type": "execute_result"
    }
   ],
   "source": [
    "len(nouns[0]), len(nouns[1])\n"
   ]
  },
  {
   "cell_type": "code",
   "execution_count": null,
   "metadata": {},
   "outputs": [],
   "source": []
  }
 ],
 "metadata": {
  "kernelspec": {
   "display_name": "Python 3.10.5 ('my-env')",
   "language": "python",
   "name": "python3"
  },
  "language_info": {
   "codemirror_mode": {
    "name": "ipython",
    "version": 3
   },
   "file_extension": ".py",
   "mimetype": "text/x-python",
   "name": "python",
   "nbconvert_exporter": "python",
   "pygments_lexer": "ipython3",
   "version": "3.10.5"
  },
  "orig_nbformat": 4,
  "vscode": {
   "interpreter": {
    "hash": "d474be476f0a6db94789ad08b16ede00cb8654a4c727ed769fba79dc07ed6ebd"
   }
  }
 },
 "nbformat": 4,
 "nbformat_minor": 2
}
